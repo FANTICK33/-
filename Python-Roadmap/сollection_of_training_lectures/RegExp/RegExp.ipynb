{
 "cells": [
  {
   "cell_type": "markdown",
   "metadata": {},
   "source": [
    "# Регулярные выражения в Python\n",
    "ссылка: https://www.youtube.com/watch?v=zk7306cHIkg\n",
    "\n",
    "Computer Science Center\n",
    "Опубликовано: 27 дек. 2017 г.\n",
    "\n",
    "### План лекции:\n",
    "- что такое регулярные выражения (\"регэкспы\", от англ. Regular Expressions), чем они полезны, когда использовать их, а когда выбирать другие инструменты);\n",
    "\n",
    "- обзор синтаксиса и возможностей;\n",
    "- особенности регекспов в языке Python;\n",
    "- неочевидные моменты, грабли и ловушки.\n",
    "\n",
    "О лекторе: Николай Меркин — разработчик в компании Яндекс.    \n",
    "\n",
    "Лекция будет полезной для пользователей языка Python, владеющих им хотя бы на самом поверхностном уровне (диалекты 2.* или 3.*).    \n",
    "Слайды: https://yadi.sk/d/bWV4tQei3R2cDb (тут HTML слайды)    "
   ]
  },
  {
   "cell_type": "code",
   "execution_count": 1,
   "metadata": {},
   "outputs": [
    {
     "data": {
      "image/jpeg": "[encoded data removed]",
      "text/html": [
       "\n",
       "        <iframe\n",
       "            width=\"400\"\n",
       "            height=\"300\"\n",
       "            src=\"https://www.youtube.com/embed/zk7306cHIkg\"\n",
       "            frameborder=\"0\"\n",
       "            allowfullscreen\n",
       "        ></iframe>\n",
       "        "
      ],
      "text/plain": [
       "<IPython.lib.display.YouTubeVideo at 0x183c6ce1cc0>"
      ]
     },
     "execution_count": 1,
     "metadata": {},
     "output_type": "execute_result"
    }
   ],
   "source": [
    "from IPython.display import YouTubeVideo\n",
    "# Регулярные выражения в Python\n",
    "# Video credit: Computer Science Center\n",
    "YouTubeVideo('zk7306cHIkg')"
   ]
  },
  {
   "cell_type": "markdown",
   "metadata": {},
   "source": [
    "## Регулярные выражения на Python\n",
    "\n",
    "### Тезисы статьи\n",
    "\n",
    "- Зачем нужны регекспы\n",
    "- Виды регекспов (POSIX, PCRE)\n",
    "- Синтаксис: строки без лишнего экранирования\n",
    "- Компиляция и кэширование\n",
    "- Задачи: сопоставление, поиск и подстановка\n",
    "- Разбор выражений, группы\n",
    "- Регекспы за пределами регулярных грамматик\n",
    "- Итерация по регекспам\n",
    "- Многострочные тексты"
   ]
  },
  {
   "cell_type": "markdown",
   "metadata": {},
   "source": [
    "### Зачем нужны регекспы\n",
    "Когда вы разбираете содержимое строки (ищете фрагменты), то у вас есть три пути:\n",
    "\n",
    "- написать разбор вручную - посимвольное чтение, поиск ключевых частей в заданных позициях\n",
    "- найти готовый парсер\n",
    "- написать выражение, отражающее структуру строки"
   ]
  },
  {
   "cell_type": "code",
   "execution_count": 2,
   "metadata": {},
   "outputs": [
    {
     "name": "stdout",
     "output_type": "stream",
     "text": [
      "\n",
      "# def foo(): # эта строка закомментирована, мы её не считаем\n",
      "def bar(x,y,z):\n",
      "    def buz(): # вложенная функция\n",
      "        pass\n",
      "    pass\n",
      "\n"
     ]
    }
   ],
   "source": [
    "# пример: на входе файл на питоне, надо перечислить все функции, которые в нём объявлены\n",
    "src = '''\n",
    "# def foo(): # эта строка закомментирована, мы её не считаем\n",
    "def bar(x,y,z):\n",
    "    def buz(): # вложенная функция\n",
    "        pass\n",
    "    pass\n",
    "'''\n",
    "print(src)"
   ]
  },
  {
   "cell_type": "code",
   "execution_count": 3,
   "metadata": {},
   "outputs": [
    {
     "name": "stdout",
     "output_type": "stream",
     "text": [
      "''\n",
      "'# def foo(): # эта строка закомментирована, мы её не считаем'\n",
      "'def bar(x,y,z):'\n",
      "'    def buz(): # вложенная функция'\n",
      "'        pass'\n",
      "'    pass'\n"
     ]
    }
   ],
   "source": [
    "# сперва разобьём файл на строки\n",
    "lines = src.splitlines()\n",
    "for l in lines:\n",
    "    print(repr(l))"
   ]
  },
  {
   "cell_type": "code",
   "execution_count": 4,
   "metadata": {},
   "outputs": [
    {
     "name": "stdout",
     "output_type": "stream",
     "text": [
      "found function:  bar\n",
      "found function:  buz\n"
     ]
    }
   ],
   "source": [
    "for line in lines:\n",
    "    line = line.strip()\n",
    "    comment = line.find('#')\n",
    "    if comment > 0:\n",
    "        line = line[:comment]\n",
    "    if not line.startswith('def '):\n",
    "        continue\n",
    "    line = line[4:].strip()\n",
    "    bracket = line.find('(')\n",
    "    if bracket < 0:\n",
    "        continue\n",
    "    line = line[:bracket].strip()\n",
    "    if not line:\n",
    "        continue\n",
    "    print('found function: ', line)"
   ]
  },
  {
   "cell_type": "code",
   "execution_count": 5,
   "metadata": {},
   "outputs": [
    {
     "name": "stdout",
     "output_type": "stream",
     "text": [
      "found function:  bar\n",
      "found function:  buz\n"
     ]
    }
   ],
   "source": [
    "# то же самое на регекспах\n",
    "import re\n",
    "for line in lines:\n",
    "    match = re.match(r'^\\s*def\\s+\\b(.*?)\\b\\(', line)\n",
    "    if match:\n",
    "        print('found function: ', match.group(1))"
   ]
  },
  {
   "cell_type": "markdown",
   "metadata": {},
   "source": [
    "### Python умеет \"из коробки\"\n",
    "* XML и HTML\n",
    "    * https://docs.python.org/3/library/markup.html\n",
    "    * https://pypi.python.org/pypi/beautifulsoup4\n",
    "* CSV - https://docs.python.org/3/library/csv.html\n",
    "* INI - https://docs.python.org/3/library/configparser.html\n",
    "* JSON - https://docs.python.org/3/library/json.html\n",
    "* URL - https://docs.python.org/3/library/urllib.parse.html#module-urllib.parse\n",
    "* командную строку\n",
    "    * https://docs.python.org/3/library/getopt.html\n",
    "    * https://docs.python.org/3/library/argparse.html\n",
    "* форматирование строк и текстов\n",
    "* и многое многое другое...\n",
    "\n",
    "_\"Всё уже украдено до нас!\"_ А для всего остального и существуют прямые руки и регулярные выражения."
   ]
  },
  {
   "cell_type": "markdown",
   "metadata": {},
   "source": [
    "### Виды регулярных выражений\n",
    "* Настоящие регулярные выражения - описывают регулярную грамматику, для разбора которой достаточно конечного автомата\n",
    "* Перл-совместимые - перепрыгивают через класс контекстно-свободных грамматик и дают подкласс контекстно-зависимых"
   ]
  },
  {
   "cell_type": "markdown",
   "metadata": {},
   "source": [
    "### Грамматики Хомского   \n",
    "\n",
    "3) Регулярные (для разбора достаточен конечный автомат)    \n",
    "2) Контекстно-свободные (стековый автомат)    \n",
    "1) Контекстно-зависимые (машина Поста или Тьюринга)    \n",
    "0) Неограниченные"
   ]
  },
  {
   "cell_type": "markdown",
   "metadata": {},
   "source": [
    "__Любую регулярную грамматику можно записать с помощью регекспа, вопрос лишь в громоздкости__\n",
    "\n",
    "__Не всякую контекстно-зависимую грамматику можно выразить регекспом__\n",
    "\n",
    "__Не всякую контекстно-свободную грамматику можно выразить регекспом__"
   ]
  },
  {
   "cell_type": "markdown",
   "metadata": {},
   "source": [
    "## Закон регекспов\n",
    "\n",
    "Если у вас есть проблема, и вы придумали, как решить её регекспом - у вас две проблемы"
   ]
  },
  {
   "cell_type": "markdown",
   "metadata": {},
   "source": [
    "## Самый Страшный Регексп\n",
    "Это, конечно же, email из RFC-822 (http://www.ietf.org/rfc/rfc822.txt)\n",
    "\n",
    "```\n",
    "(?:(?:\\r\\n)?[ \\t])*(?:(?:(?:[^()<>@,;:\\\\\".\\[\\] \\000-\\031]+(?:(?:(?:\\r\\n)?[ \\t])+|\\Z|(?=[\\[\"()<>@,;:\\\\\".\\[\\]]))|\"(?:[^\\\"\\r\\\\]|\\\\.|(?:(?:\\r\\n)?[ \\t]))*\"(?:(?:\\r\\n)?[ \\t])*)(?:\\.(?:(?:\\r\\n)?[ \\t])*(?:[^()<>@,;:\\\\\".\\[\\] \\000-\\031]+(?:(?:(?:\\r\\n)?[ \\t])+|\\Z|(?=[\\[\"()<>@,;:\\\\\".\\[\\]]))|\"(?:[^\\\"\\r\\\\]|\\\\.|(?:(?:\\r\\n)?[ \\t]))*\"(?:(?:\\r\\n)?[ \\t])*))*@(?:(?:\\r\\n)?[ \\t])*(?:[^()<>@,;:\\\\\".\\[\\] \\000-\\031]+(?:(?:(?:\\r\\n)?[ \\t])+|\\Z|(?=[\\[\"()<>@,;:\\\\\".\\[\\]]))|\\[([^\\[\\]\\r\\\\]|\\\\.)*\\](?:(?:\\r\\n)?[ \\t])*)(?:\\.(?:(?:\\r\\n)?[ \\t])*(?:[^()<>@,;:\\\\\".\\[\\] \\000-\\031]+(?:(?:(?:\\r\\n)?[ \\t])+|\\Z|(?=[\\[\"()<>@,;:\\\\\".\\[\\]]))|\\[([^\\[\\]\\r\\\\]|\\\\.)*\\](?:(?:\\r\\n)?[ \\t])*))*|(?:[^()<>@,;:\\\\\".\\[\\] \\000-\\031]+(?:(?:(?:\\r\\n)?[ \\t])+|\\Z|(?=[\\[\"()<>@,;:\\\\\".\\[\\]]))|\"(?:[^\\\"\\r\\\\]|\\\\.|(?:(?:\\r\\n)?[ \\t]))*\"(?:(?:\\r\\n)?[ \\t])*)*\\<(?:(?:\\r\\n)?[ \\t])*(?:@(?:[^()<>@,;:\\\\\".\\[\\] \\000-\\031]+(?:(?:(?:\\r\\n)?[ \\t])+|\\Z|(?=[\\[\"()<>@,;:\\\\\".\\[\\]]))|\\[([^\\[\\]\\r\\\\]|\\\\.)*\\](?:(?:\\r\\n)?[ \\t])*)(?:\\.(?:(?:\\r\\n)?[ \\t])*(?:[^()<>@,;:\\\\\".\\[\\] \\000-\\031]+(?:(?:(?:\\r\\n)?[ \\t])+|\\Z|(?=[\\[\"()<>@,;:\\\\\".\\[\\]]))|\\[([^\\[\\]\\r\\\\]|\\\\.)*\\](?:(?:\\r\\n)?[ \\t])*))*(?:,@(?:(?:\\r\\n)?[ \\t])*(?:[^()<>@,;:\\\\\".\\[\\] \\000-\\031]+(?:(?:(?:\\r\\n)?[ \\t])+|\\Z|(?=[\\[\"()<>@,;:\\\\\".\\[\\]]))|\\[([^\\[\\]\\r\\\\]|\\\\.)*\\](?:(?:\\r\\n)?[ \\t])*)(?:\\.(?:(?:\\r\\n)?[ \\t])*(?:[^()<>@,;:\\\\\".\\[\\] \\000-\\031]+(?:(?:(?:\\r\\n)?[ \\t])+|\\Z|(?=[\\[\"()<>@,;:\\\\\".\\[\\]]))|\\[([^\\[\\]\\r\\\\]|\\\\.)*\\](?:(?:\\r\\n)?[ \\t])*))*)*:(?:(?:\\r\\n)?[ \\t])*)?(?:[^()<>@,;:\\\\\".\\[\\] \\000-\\031]+(?:(?:(?:\\r\\n)?[ \\t])+|\\Z|(?=[\\[\"()<>@,;:\\\\\".\\[\\]]))|\"(?:[^\\\"\\r\\\\]|\\\\.|(?:(?:\\r\\n)?[ \\t]))*\"(?:(?:\\r\\n)?[ \\t])*)(?:\\.(?:(?:\\r\\n)?[ \\t])*(?:[^()<>@,;:\\\\\".\\[\\] \\000-\\031]+(?:(?:(?:\\r\\n)?[ \\t])+|\\Z|(?=[\\[\"()<>@,;:\\\\\".\\[\\]]))|\"(?:[^\\\"\\r\\\\]|\\\\.|(?:(?:\\r\\n)?[ \\t]))*\"(?:(?:\\r\\n)?[ \\t])*))*@(?:(?:\\r\\n)?[ \\t])*(?:[^()<>@,;:\\\\\".\\[\\] \\000-\\031]+(?:(?:(?:\\r\\n)?[ \\t])+|\\Z|(?=[\\[\"()<>@,;:\\\\\".\\[\\]]))|\\[([^\\[\\]\\r\\\\]|\\\\.)*\\](?:(?:\\r\\n)?[ \\t])*)(?:\\.(?:(?:\\r\\n)?[ \\t])*(?:[^()<>@,;:\\\\\".\\[\\] \\000-\\031]+(?:(?:(?:\\r\\n)?[ \\t])+|\\Z|(?=[\\[\"()<>@,;:\\\\\".\\[\\]]))|\\[([^\\[\\]\\r\\\\]|\\\\.)*\\](?:(?:\\r\\n)?[ \\t])*))*\\>(?:(?:\\r\\n)?[ \\t])*)|(?:[^()<>@,;:\\\\\".\\[\\] \\000-\\031]+(?:(?:(?:\\r\\n)?[ \\t])+|\\Z|(?=[\\[\"()<>@,;:\\\\\".\\[\\]]))|\"(?:[^\\\"\\r\\\\]|\\\\.|(?:(?:\\r\\n)?[ \\t]))*\"(?:(?:\\r\\n)?[ \\t])*)*:(?:(?:\\r\\n)?[ \\t])*(?:(?:(?:[^()<>@,;:\\\\\".\\[\\] \\000-\\031]+(?:(?:(?:\\r\\n)?[ \\t])+|\\Z|(?=[\\[\"()<>@,;:\\\\\".\\[\\]]))|\"(?:[^\\\"\\r\\\\]|\\\\.|(?:(?:\\r\\n)?[ \\t]))*\"(?:(?:\\r\\n)?[ \\t])*)(?:\\.(?:(?:\\r\\n)?[ \\t])*(?:[^()<>@,;:\\\\\".\\[\\] \\000-\\031]+(?:(?:(?:\\r\\n)?[ \\t])+|\\Z|(?=[\\[\"()<>@,;:\\\\\".\\[\\]]))|\"(?:[^\\\"\\r\\\\]|\\\\.|(?:(?:\\r\\n)?[ \\t]))*\"(?:(?:\\r\\n)?[ \\t])*))*@(?:(?:\\r\\n)?[ \\t])*(?:[^()<>@,;:\\\\\".\\[\\] \\000-\\031]+(?:(?:(?:\\r\\n)?[ \\t])+|\\Z|(?=[\\[\"()<>@,;:\\\\\".\\[\\]]))|\\[([^\\[\\]\\r\\\\]|\\\\.)*\\](?:(?:\\r\\n)?[ \\t])*)(?:\\.(?:(?:\\r\\n)?[ \\t])*(?:[^()<>@,;:\\\\\".\\[\\] \\000-\\031]+(?:(?:(?:\\r\\n)?[ \\t])+|\\Z|(?=[\\[\"()<>@,;:\\\\\".\\[\\]]))|\\[([^\\[\\]\\r\\\\]|\\\\.)*\\](?:(?:\\r\\n)?[ \\t])*))*|(?:[^()<>@,;:\\\\\".\\[\\] \\000-\\031]+(?:(?:(?:\\r\\n)?[ \\t])+|\\Z|(?=[\\[\"()<>@,;:\\\\\".\\[\\]]))|\"(?:[^\\\"\\r\\\\]|\\\\.|(?:(?:\\r\\n)?[ \\t]))*\"(?:(?:\\r\\n)?[ \\t])*)*\\<(?:(?:\\r\\n)?[ \\t])*(?:@(?:[^()<>@,;:\\\\\".\\[\\] \\000-\\031]+(?:(?:(?:\\r\\n)?[ \\t])+|\\Z|(?=[\\[\"()<>@,;:\\\\\".\\[\\]]))|\\[([^\\[\\]\\r\\\\]|\\\\.)*\\](?:(?:\\r\\n)?[ \\t])*)(?:\\.(?:(?:\\r\\n)?[ \\t])*(?:[^()<>@,;:\\\\\".\\[\\] \\000-\\031]+(?:(?:(?:\\r\\n)?[ \\t])+|\\Z|(?=[\\[\"()<>@,;:\\\\\".\\[\\]]))|\\[([^\\[\\]\\r\\\\]|\\\\.)*\\](?:(?:\\r\\n)?[ \\t])*))*(?:,@(?:(?:\\r\\n)?[ \\t])*(?:[^()<>@,;:\\\\\".\\[\\] \\000-\\031]+(?:(?:(?:\\r\\n)?[ \\t])+|\\Z|(?=[\\[\"()<>@,;:\\\\\".\\[\\]]))|\\[([^\\[\\]\\r\\\\]|\\\\.)*\\](?:(?:\\r\\n)?[ \\t])*)(?:\\.(?:(?:\\r\\n)?[ \\t])*(?:[^()<>@,;:\\\\\".\\[\\] \\000-\\031]+(?:(?:(?:\\r\\n)?[ \\t])+|\\Z|(?=[\\[\"()<>@,;:\\\\\".\\[\\]]))|\\[([^\\[\\]\\r\\\\]|\\\\.)*\\](?:(?:\\r\\n)?[ \\t])*))*)*:(?:(?:\\r\\n)?[ \\t])*)?(?:[^()<>@,;:\\\\\".\\[\\] \\000-\\031]+(?:(?:(?:\\r\\n)?[ \\t])+|\\Z|(?=[\\[\"()<>@,;:\\\\\".\\[\\]]))|\"(?:[^\\\"\\r\\\\]|\\\\.|(?:(?:\\r\\n)?[ \\t]))*\"(?:(?:\\r\\n)?[ \\t])*)(?:\\.(?:(?:\\r\\n)?[ \\t])*(?:[^()<>@,;:\\\\\".\\[\\] \\000-\\031]+(?:(?:(?:\\r\\n)?[ \\t])+|\\Z|(?=[\\[\"()<>@,;:\\\\\".\\[\\]]))|\"(?:[^\\\"\\r\\\\]|\\\\.|(?:(?:\\r\\n)?[ \\t]))*\"(?:(?:\\r\\n)?[ \\t])*))*@(?:(?:\\r\\n)?[ \\t])*(?:[^()<>@,;:\\\\\".\\[\\] \\000-\\031]+(?:(?:(?:\\r\\n)?[ \\t])+|\\Z|(?=[\\[\"()<>@,;:\\\\\".\\[\\]]))|\\[([^\\[\\]\\r\\\\]|\\\\.)*\\](?:(?:\\r\\n)?[ \\t])*)(?:\\.(?:(?:\\r\\n)?[ \\t])*(?:[^()<>@,;:\\\\\".\\[\\] \\000-\\031]+(?:(?:(?:\\r\\n)?[ \\t])+|\\Z|(?=[\\[\"()<>@,;:\\\\\".\\[\\]]))|\\[([^\\[\\]\\r\\\\]|\\\\.)*\\](?:(?:\\r\\n)?[ \\t])*))*\\>(?:(?:\\r\\n)?[ \\t])*)(?:,\\s*(?:(?:[^()<>@,;:\\\\\".\\[\\] \\000-\\031]+(?:(?:(?:\\r\\n)?[ \\t])+|\\Z|(?=[\\[\"()<>@,;:\\\\\".\\[\\]]))|\"(?:[^\\\"\\r\\\\]|\\\\.|(?:(?:\\r\\n)?[ \\t]))*\"(?:(?:\\r\\n)?[ \\t])*)(?:\\.(?:(?:\\r\\n)?[ \\t])*(?:[^()<>@,;:\\\\\".\\[\\] \\000-\\031]+(?:(?:(?:\\r\\n)?[ \\t])+|\\Z|(?=[\\[\"()<>@,;:\\\\\".\\[\\]]))|\"(?:[^\\\"\\r\\\\]|\\\\.|(?:(?:\\r\\n)?[ \\t]))*\"(?:(?:\\r\\n)?[ \\t])*))*@(?:(?:\\r\\n)?[ \\t])*(?:[^()<>@,;:\\\\\".\\[\\] \\000-\\031]+(?:(?:(?:\\r\\n)?[ \\t])+|\\Z|(?=[\\[\"()<>@,;:\\\\\".\\[\\]]))|\\[([^\\[\\]\\r\\\\]|\\\\.)*\\](?:(?:\\r\\n)?[ \\t])*)(?:\\.(?:(?:\\r\\n)?[ \\t])*(?:[^()<>@,;:\\\\\".\\[\\] \\000-\\031]+(?:(?:(?:\\r\\n)?[ \\t])+|\\Z|(?=[\\[\"()<>@,;:\\\\\".\\[\\]]))|\\[([^\\[\\]\\r\\\\]|\\\\.)*\\](?:(?:\\r\\n)?[ \\t])*))*|(?:[^()<>@,;:\\\\\".\\[\\] \\000-\\031]+(?:(?:(?:\\r\\n)?[ \\t])+|\\Z|(?=[\\[\"()<>@,;:\\\\\".\\[\\]]))|\"(?:[^\\\"\\r\\\\]|\\\\.|(?:(?:\\r\\n)?[ \\t]))*\"(?:(?:\\r\\n)?[ \\t])*)*\\<(?:(?:\\r\\n)?[ \\t])*(?:@(?:[^()<>@,;:\\\\\".\\[\\] \\000-\\031]+(?:(?:(?:\\r\\n)?[ \\t])+|\\Z|(?=[\\[\"()<>@,;:\\\\\".\\[\\]]))|\\[([^\\[\\]\\r\\\\]|\\\\.)*\\](?:(?:\\r\\n)?[ \\t])*)(?:\\.(?:(?:\\r\\n)?[ \\t])*(?:[^()<>@,;:\\\\\".\\[\\] \\000-\\031]+(?:(?:(?:\\r\\n)?[ \\t])+|\\Z|(?=[\\[\"()<>@,;:\\\\\".\\[\\]]))|\\[([^\\[\\]\\r\\\\]|\\\\.)*\\](?:(?:\\r\\n)?[ \\t])*))*(?:,@(?:(?:\\r\\n)?[ \\t])*(?:[^()<>@,;:\\\\\".\\[\\] \\000-\\031]+(?:(?:(?:\\r\\n)?[ \\t])+|\\Z|(?=[\\[\"()<>@,;:\\\\\".\\[\\]]))|\\[([^\\[\\]\\r\\\\]|\\\\.)*\\](?:(?:\\r\\n)?[ \\t])*)(?:\\.(?:(?:\\r\\n)?[ \\t])*(?:[^()<>@,;:\\\\\".\\[\\] \\000-\\031]+(?:(?:(?:\\r\\n)?[ \\t])+|\\Z|(?=[\\[\"()<>@,;:\\\\\".\\[\\]]))|\\[([^\\[\\]\\r\\\\]|\\\\.)*\\](?:(?:\\r\\n)?[ \\t])*))*)*:(?:(?:\\r\\n)?[ \\t])*)?(?:[^()<>@,;:\\\\\".\\[\\] \\000-\\031]+(?:(?:(?:\\r\\n)?[ \\t])+|\\Z|(?=[\\[\"()<>@,;:\\\\\".\\[\\]]))|\"(?:[^\\\"\\r\\\\]|\\\\.|(?:(?:\\r\\n)?[ \\t]))*\"(?:(?:\\r\\n)?[ \\t])*)(?:\\.(?:(?:\\r\\n)?[ \\t])*(?:[^()<>@,;:\\\\\".\\[\\] \\000-\\031]+(?:(?:(?:\\r\\n)?[ \\t])+|\\Z|(?=[\\[\"()<>@,;:\\\\\".\\[\\]]))|\"(?:[^\\\"\\r\\\\]|\\\\.|(?:(?:\\r\\n)?[ \\t]))*\"(?:(?:\\r\\n)?[ \\t])*))*@(?:(?:\\r\\n)?[ \\t])*(?:[^()<>@,;:\\\\\".\\[\\] \\000-\\031]+(?:(?:(?:\\r\\n)?[ \\t])+|\\Z|(?=[\\[\"()<>@,;:\\\\\".\\[\\]]))|\\[([^\\[\\]\\r\\\\]|\\\\.)*\\](?:(?:\\r\\n)?[ \\t])*)(?:\\.(?:(?:\\r\\n)?[ \\t])*(?:[^()<>@,;:\\\\\".\\[\\] \\000-\\031]+(?:(?:(?:\\r\\n)?[ \\t])+|\\Z|(?=[\\[\"()<>@,;:\\\\\".\\[\\]]))|\\[([^\\[\\]\\r\\\\]|\\\\.)*\\](?:(?:\\r\\n)?[ \\t])*))*\\>(?:(?:\\r\\n)?[\n",
    "```"
   ]
  },
  {
   "cell_type": "markdown",
   "metadata": {},
   "source": [
    "## На самом деле, есть менее страшный RFC5322\n",
    "http://www.ietf.org/rfc/rfc5322.txt\n",
    "\n",
    "Попроще (https://stackoverflow.com/questions/201323/using-a-regular-expression-to-validate-an-email-address/1917982#1917982)\n",
    "```\n",
    "([-!#-'*+/-9=?A-Z^-~]+(\\.[-!#-'*+/-9=?A-Z^-~]+)*|\"([]!#-[^-~ \\t]|(\\\\[\\t -~]))+\")@([-!#-'*+/-9=?A-Z^-~]+(\\.[-!#-'*+/-9=?A-Z^-~]+)*|\\[[\\t -Z^-~]*])\n",
    "```"
   ]
  },
  {
   "cell_type": "markdown",
   "metadata": {},
   "source": [
    "Посложнее (https://stackoverflow.com/questions/201323/using-a-regular-expression-to-validate-an-email-address/1917982) - с исправлением недочёта в разборе IP-адреса)\n",
    "\n",
    "```\n",
    "(?:[a-z0-9!#$%&'*+/=?^_`{|}~-]+(?:\\.[a-z0-9!#$%&'*+/=?^_`{|}~-]+)*|\"(?:[\\x01-\\x08\\x0b\\x0c\\x0e-\\x1f\\x21\\x23-\\x5b\\x5d-\\x7f]|\\\\[\\x01-\\x09\\x0b\\x0c\\x0e-\\x7f])*\")@(?:(?:[a-z0-9](?:[a-z0-9-]*[a-z0-9])?\\.)+[a-z0-9](?:[a-z0-9-]*[a-z0-9])?|\\[(?:(?:(2(5[0-5]|[0-4][0-9])|1[0-9][0-9]|[1-9]?[0-9]))\\.){3}(?:(2(5[0-5]|[0-4][0-9])|1[0-9][0-9]|[1-9]?[0-9])|[a-z0-9-]*[a-z0-9]:(?:[\\x01-\\x08\\x0b\\x0c\\x0e-\\x1f\\x21-\\x5a\\x53-\\x7f]|\\\\[\\x01-\\x09\\x0b\\x0c\\x0e-\\x7f])+)\\])\n",
    "```"
   ]
  },
  {
   "cell_type": "markdown",
   "metadata": {},
   "source": [
    "### Виды регекспов: BRE, SRE, ERE... и PCRE\n",
    "Описаны в стандарте POSIX (подробнее см. в википедии https://en.wikipedia.org/wiki/Regular_expression#Standards)\n",
    "\n",
    "* __BRE__ - basic regexp - минимально необходимый (и исторически самый первый) язык регулярных выражений\n",
    "* __SRE__ - simple regexp - добавляет к BRE метасимволы и классы символов\n",
    "* __ERE__ - extended regexp - добавляет к SRE полезняшки - именованные классы, произвольные повторы\n",
    "\n",
    "Особняком стоит __PCRE__ - __p__erl-__c__ompatible __re__gexp - который добавляет к ERE много нового."
   ]
  },
  {
   "cell_type": "markdown",
   "metadata": {},
   "source": [
    "### Базовые регекспы (BRE) содержат\n",
    "\n",
    "* произвольные конкретные символы\n",
    "* класс `\".\"` = любой символ\n",
    "* повтор `\"*\"` - ноль и более раз\n",
    "* группировка `\"(\", \")\"` и ветвление `\"|\"`\n",
    "\n",
    "Исторически, в BRE метасимволы `\"(\", \"|\", \")\"` нужно было экранировать префиксом `\"\\\"`. Те, кто пишет скрипты на баше и вовсю пользуется утилитами `sed` и `grep`, сталкиваются с этим."
   ]
  },
  {
   "cell_type": "code",
   "execution_count": 6,
   "metadata": {},
   "outputs": [
    {
     "name": "stdout",
     "output_type": "stream",
     "text": [
      "<_sre.SRE_Match object; span=(0, 4), match='aaaa'>\n"
     ]
    }
   ],
   "source": [
    "print(re.match(r'a*b*c*|def', 'aaaa'))"
   ]
  },
  {
   "cell_type": "markdown",
   "metadata": {},
   "source": [
    "### Расширенные регекспы (SRE, ERE)\n",
    "Добавляют много полезняшек, по-прежнему оставаясь в рамках регулярных грамматик\n",
    "\n",
    "* классы символов `\"[abc0-9]\"` - эквивалентно ветвлению `\"(a|b|c|0|1|...|9)\"`\n",
    "* негативные классы `\"[^ \\t\\n]\"` - эквивалентно ветвлению по всем остальным символам\n",
    "* популярные классы `\"\\s\"`, `\"\\d\"`, `\"\\w\"` и их дополнения `\"\\S\"`, `\"\\D\"`, `\"\\W\"`; именные классы `\"[[:digit:]]\"` и т.п. - в питоне их нет\n",
    "* начало и конец строки `\"^\"`, `\"$\"` - фиктивные символы, незримо присутствующие в строке (в окрестностях символа `\"\\n\"`)\n",
    "* начало и конец слова `\"\\b\"`, и наоборот `\"\\B\"` - фиктивные символы\n",
    "* произвольные повторы `\"{m,n}\"` заданного количества раз, ну и `\"?\" = \"{0,1}\", \"+\" = \"{1,}\", \"*\" = \"{0,}\"`"
   ]
  },
  {
   "cell_type": "code",
   "execution_count": 7,
   "metadata": {},
   "outputs": [
    {
     "name": "stdout",
     "output_type": "stream",
     "text": [
      "<_sre.SRE_Match object; span=(0, 4), match='aaaa'>\n",
      "None\n",
      "<_sre.SRE_Match object; span=(0, 3), match='123'>\n"
     ]
    }
   ],
   "source": [
    "print(re.match(r'a*b*c*|def', 'aaaa'))\n",
    "print(re.match(r'[[:digit:]]+', '123')) # python не умеет полноценный ERE\n",
    "print(re.match(r'\\d+', '123'))"
   ]
  },
  {
   "cell_type": "code",
   "execution_count": 8,
   "metadata": {},
   "outputs": [
    {
     "name": "stdout",
     "output_type": "stream",
     "text": [
      "None\n",
      "<_sre.SRE_Match object; span=(0, 3), match='123'>\n"
     ]
    }
   ],
   "source": [
    "print(re.match(r'[[:digit:]]+', '123')) # python не умеет полноценный ERE\n",
    "print(re.match(r'\\d+', '123'))"
   ]
  },
  {
   "cell_type": "markdown",
   "metadata": {},
   "source": [
    "Python недотягивает до полноценного ERE, поэтому его внутренние названия модулей и классов содержат аббревиатуру SRE."
   ]
  },
  {
   "cell_type": "markdown",
   "metadata": {},
   "source": [
    "### Регекспы Perl-Compatible (PCRE)\n",
    "Ленивое и жадное распознавание\n",
    "\n",
    "Атомарная группировка (отсечка при откатах). В питоне её нет\n",
    "\n",
    "Навороченный синтаксис групп (об этом - позже)\n",
    "\n",
    "* именованные\n",
    "* ссылки назад\n",
    "* заглядывания вперёд"
   ]
  },
  {
   "cell_type": "code",
   "execution_count": 9,
   "metadata": {},
   "outputs": [
    {
     "name": "stdout",
     "output_type": "stream",
     "text": [
      "<_sre.SRE_Match object; span=(0, 40), match='<bold>some</bold> more <bold>text</bold>'>\n"
     ]
    }
   ],
   "source": [
    "# жадное сопоставление\n",
    "print(re.match(r'<bold>.*</bold>', '<bold>some</bold> more <bold>text</bold>'))"
   ]
  },
  {
   "cell_type": "code",
   "execution_count": 10,
   "metadata": {},
   "outputs": [
    {
     "name": "stdout",
     "output_type": "stream",
     "text": [
      "<_sre.SRE_Match object; span=(0, 17), match='<bold>some</bold>'>\n"
     ]
    }
   ],
   "source": [
    "# ленивое сопоставление: .*?\n",
    "print(re.match(r'<bold>.*?</bold>', '<bold>some</bold> more <bold>text</bold>'))"
   ]
  },
  {
   "cell_type": "markdown",
   "metadata": {},
   "source": [
    "### Строки для регекспов\n",
    "Проблема в том, что в регекспах есть спецсимволы - а поэтому есть и экранирование спецсимволов (хорошо известный бэкслеш `\"\\\"`). Чтобы не экранировать экранирование, есть специальный синтаксис: `r\"...\"` и `r'...'`"
   ]
  },
  {
   "cell_type": "code",
   "execution_count": 11,
   "metadata": {},
   "outputs": [
    {
     "name": "stdout",
     "output_type": "stream",
     "text": [
      "\\[\\]\\\\\"\n",
      "'\\\\[\\\\]\\\\\\\\\"'\n",
      "True\n",
      "True\n"
     ]
    }
   ],
   "source": [
    "s = r'\\[\\]\\\\\"' # спецсимволы регекспа [, ], \\, а также спецсимвол строки \"\n",
    "print(s)\n",
    "print(repr(s))\n",
    "print(s == '\\\\[\\\\]\\\\\\\\\"')\n",
    "print(s == \"\\\\[\\\\]\\\\\\\\\\\"\") # если бы мы писали в обычном сишном синтаксисе...\n",
    "#           ^  ^  ^ ^ ^  экранирование спецсимволов строки\n",
    "#           ^^ ^^ ^^     экранирование спецсимволово регекспа"
   ]
  },
  {
   "cell_type": "markdown",
   "metadata": {},
   "source": [
    "r-строки сочетаются с юникодными и байтовыми (u- и b-строками), а в __Python 3.6+__ - ещё и с f-строками.\n",
    "\n",
    "* `br'...'` - байтовая (актуально для python3, т.к. в python2 обычные строки байтовые)\n",
    "* `ur'...'` - юникодная (напротив: актуально для python2)\n",
    "* `fr'...'` - форматированная\n",
    "\n",
    "Форматированной байтовой, увы, нет."
   ]
  },
  {
   "cell_type": "code",
   "execution_count": 12,
   "metadata": {},
   "outputs": [
    {
     "name": "stdout",
     "output_type": "stream",
     "text": [
      "b'hello world'\n",
      "привет мир\n",
      "привет мир\n"
     ]
    }
   ],
   "source": [
    "world, bworld = 'мир', b'world'\n",
    "print(br'hello %s' % bworld)\n",
    "print(r'привет %s' % world)\n",
    "print(fr'привет {world}')"
   ]
  },
  {
   "cell_type": "markdown",
   "metadata": {},
   "source": [
    "### Громоздкие регекспы\n",
    "\n",
    "Не пытайтесь написать всё в одну строку самостоятельно. Сделайте подобие формы Бэкуса-Наура"
   ]
  },
  {
   "cell_type": "code",
   "execution_count": 13,
   "metadata": {},
   "outputs": [
    {
     "name": "stdout",
     "output_type": "stream",
     "text": [
      "[+\\-]?(\\d+(\\.\\d*)?|\\.\\d+)([Ee][+\\-]?\\d+)?\n"
     ]
    }
   ],
   "source": [
    "optsign = r'[+\\-]?'\n",
    "int_opt_frac = r'\\d+(\\.\\d*)?'\n",
    "just_frac = r'\\.\\d+'\n",
    "mantissa = optsign + r'(' + int_opt_frac + r'|' + just_frac + r')'\n",
    "order = r'[Ee]' + optsign + r'\\d+'\n",
    "floatpoint = mantissa + r'(' + order + r')?'\n",
    "\n",
    "print(floatpoint)"
   ]
  },
  {
   "cell_type": "code",
   "execution_count": 14,
   "metadata": {},
   "outputs": [
    {
     "name": "stdout",
     "output_type": "stream",
     "text": [
      "[+\\-]?(\\d+(\\.\\d*)?|\\.\\d+)([Ee][+\\-]?\\d+)?\n"
     ]
    }
   ],
   "source": [
    "# то же самое на fr-строках только дял Python 3.6+\n",
    "optsign = r'[+\\-]?'\n",
    "int_opt_frac = r'\\d+(\\.\\d*)?'\n",
    "just_frac = r'\\.\\d+'\n",
    "mantissa = fr'{optsign}({int_opt_frac}|{just_frac})'\n",
    "order = fr'[Ee]{optsign}\\d+'\n",
    "floatpoint = fr'{mantissa}({order})?'\n",
    "\n",
    "print(floatpoint)"
   ]
  },
  {
   "cell_type": "code",
   "execution_count": 15,
   "metadata": {},
   "outputs": [
    {
     "name": "stdout",
     "output_type": "stream",
     "text": [
      "\n",
      "[+\\-]?           # optional sign\n",
      "(                # mantissa value\n",
      "  \\d+ (\\. \\d*)?  #   integral part with optional fraction\n",
      "| \\. \\d+         #   no integral part with mandatory fraction\n",
      ")                # end of mantissa\n",
      "(                # optional order\n",
      "  [Ee]           #   the tag\n",
      "  [+\\-]?         #   optional sign\n",
      "  \\d+            #   integer order\n",
      ")?               # end of optional order\n",
      "\n"
     ]
    },
    {
     "data": {
      "text/plain": [
       "<_sre.SRE_Match object; span=(0, 11), match='-123.45e-67'>"
      ]
     },
     "execution_count": 15,
     "metadata": {},
     "output_type": "execute_result"
    }
   ],
   "source": [
    "# Используйте пробелы и комментарии\n",
    "floatpoint_v = r'''\n",
    "[+\\-]?           # optional sign\n",
    "(                # mantissa value\n",
    "  \\d+ (\\. \\d*)?  #   integral part with optional fraction\n",
    "| \\. \\d+         #   no integral part with mandatory fraction\n",
    ")                # end of mantissa\n",
    "(                # optional order\n",
    "  [Ee]           #   the tag\n",
    "  [+\\-]?         #   optional sign\n",
    "  \\d+            #   integer order\n",
    ")?               # end of optional order\n",
    "'''\n",
    "print(floatpoint_v) # да, там честные пробелы и переводы строк!\n",
    "re.match(floatpoint_v, '-123.45e-67', re.VERBOSE)"
   ]
  },
  {
   "cell_type": "markdown",
   "metadata": {},
   "source": [
    "### Компиляция и кэширование\n",
    "\n",
    "Чтобы применить регексп, его сперва нужно разобрать и перевести в удобный для быстрого исполнения код. Как минимум, проверить на ошибки. Построить машину состояний и всё такое."
   ]
  },
  {
   "cell_type": "code",
   "execution_count": 16,
   "metadata": {},
   "outputs": [
    {
     "name": "stdout",
     "output_type": "stream",
     "text": [
      "<class '_sre.SRE_Pattern'>\n",
      "re.compile('[+\\\\-]?(\\\\d+(\\\\.\\\\d*)?|\\\\.\\\\d+)([Ee][+\\\\-]?\\\\d+)?')\n",
      "<_sre.SRE_Match object; span=(0, 10), match='123.45e+67'>\n",
      "None\n"
     ]
    }
   ],
   "source": [
    "r = re.compile(floatpoint)\n",
    "print(type(r))\n",
    "print(r)\n",
    "print(r.match('123.45e+67'))\n",
    "print(r.match('-.e5'))"
   ]
  },
  {
   "cell_type": "markdown",
   "metadata": {},
   "source": [
    "Явная компиляция захламляет код: мы вводим имя скомпилированного регекспа, пишем отдельную инструкцию, заставляем бегать глазами между местом определения и местами использования.\n",
    "\n",
    "Регекспы можно подставлять прямо в функции поиска:"
   ]
  },
  {
   "cell_type": "code",
   "execution_count": 17,
   "metadata": {},
   "outputs": [
    {
     "name": "stdout",
     "output_type": "stream",
     "text": [
      "<_sre.SRE_Match object; span=(0, 10), match='123.45e+67'>\n",
      "<_sre.SRE_Match object; span=(0, 10), match='123.45e+67'>\n"
     ]
    }
   ],
   "source": [
    "print(re.match(floatpoint, '123.45e+67'))\n",
    "# то же самое, что\n",
    "print(re.compile(floatpoint).match('123.45e+67'))"
   ]
  },
  {
   "cell_type": "markdown",
   "metadata": {},
   "source": [
    "Но что будет, если мы вызовем один регексп много-много раз? Например, в цикле? Это же безумие - компилировать одно и то же."
   ]
  },
  {
   "cell_type": "code",
   "execution_count": 18,
   "metadata": {},
   "outputs": [
    {
     "name": "stdout",
     "output_type": "stream",
     "text": [
      "<_sre.SRE_Match object; span=(0, 3), match='123'>\n",
      "<_sre.SRE_Match object; span=(0, 2), match='4.'>\n",
      "<_sre.SRE_Match object; span=(0, 2), match='.5'>\n",
      "<_sre.SRE_Match object; span=(0, 3), match='6e7'>\n"
     ]
    }
   ],
   "source": [
    "for s in ['123', '4.', '.5', '6e7']:\n",
    "    print(re.compile(floatpoint).match(s))"
   ]
  },
  {
   "cell_type": "markdown",
   "metadata": {},
   "source": [
    "Весь наш опыт подсказывает: скомпилируйте единожды.\n",
    "\n",
    "А здравый смысл разработчиков питона говорит: __узбагойтес!__ Просто не компилируйте, подставьте строку регекспа.\n",
    "\n",
    "При первом обращении она скомпилируется, далее всё, что мы заплатим - это поиск в хеш-таблице по строковому ключу. (Если регексп длинный, то, пожалуй, лучше всё-таки скомпилировать)."
   ]
  },
  {
   "cell_type": "markdown",
   "metadata": {},
   "source": [
    "### Сопоставление, поиск и подстановка\n",
    "Проще всего воспользоваться аналогией с обычными строками:\n",
    "\n",
    "* сравнение\n",
    "* поиск подстроки\n",
    "* замена\n",
    "* разбиение\n",
    "\n",
    "Ниже приведены точные соответствия - поэтому регекспы вырождены до обычных строк."
   ]
  },
  {
   "cell_type": "markdown",
   "metadata": {},
   "source": [
    "### Сопоставление и поиск"
   ]
  },
  {
   "cell_type": "code",
   "execution_count": 19,
   "metadata": {},
   "outputs": [
    {
     "name": "stdout",
     "output_type": "stream",
     "text": [
      "True\n",
      "<_sre.SRE_Match object; span=(0, 5), match='hello'>\n",
      "<_sre.SRE_Match object; span=(0, 5), match='hello'>\n"
     ]
    }
   ],
   "source": [
    "s = 'hello the world'\n",
    "print(s.startswith('hello'))\n",
    "print(re.match(r'hello', s))\n",
    "print(re.match(r'\\w{5}', s)) # начинается на слово из 5 букв"
   ]
  },
  {
   "cell_type": "code",
   "execution_count": 20,
   "metadata": {},
   "outputs": [
    {
     "name": "stdout",
     "output_type": "stream",
     "text": [
      "6\n",
      "<_sre.SRE_Match object; span=(6, 9), match='the'>\n",
      "<_sre.SRE_Match object; span=(6, 9), match='the'>\n"
     ]
    }
   ],
   "source": [
    "print(s.find('the'))\n",
    "print(re.search(r'the', s))\n",
    "print(re.search(r'\\b\\w{3}\\b', s)) # содержит слово ровно из 3 букв"
   ]
  },
  {
   "cell_type": "markdown",
   "metadata": {},
   "source": [
    "### Замена"
   ]
  },
  {
   "cell_type": "code",
   "execution_count": 21,
   "metadata": {},
   "outputs": [
    {
     "name": "stdout",
     "output_type": "stream",
     "text": [
      "heLLo the worLd\n",
      "heLLo the worLd\n",
      "he...lle... the... we...rld\n"
     ]
    }
   ],
   "source": [
    "s = 'hello the world'\n",
    "print(s.replace('l', 'L'))\n",
    "print(re.sub(r'l', 'L', s))\n",
    "print(re.sub(r'[eaoui]', 'e...', s))"
   ]
  },
  {
   "cell_type": "code",
   "execution_count": 22,
   "metadata": {},
   "outputs": [
    {
     "name": "stdout",
     "output_type": "stream",
     "text": [
      "heLlo the world\n",
      "heLlo the world\n",
      "he...llo the world\n"
     ]
    }
   ],
   "source": [
    "print(s.replace('l', 'L', 1)) # замена заданного количества вхождений\n",
    "print(re.sub(r'l', 'L', s, 1))\n",
    "print(re.sub(r'[eaoui]', 'e...', s, 1))"
   ]
  },
  {
   "cell_type": "markdown",
   "metadata": {},
   "source": [
    "### Разбиение (найти и выбросить искомый текст)"
   ]
  },
  {
   "cell_type": "code",
   "execution_count": 23,
   "metadata": {},
   "outputs": [
    {
     "name": "stdout",
     "output_type": "stream",
     "text": [
      "['he', '', 'o the wor', 'd']\n",
      "['he', '', 'o the wor', 'd']\n",
      "['h', 'll', ' th', ' w', 'rld']\n",
      "['hello ', ' world ', ' long ', ' short words']\n"
     ]
    }
   ],
   "source": [
    "print(s.split('l'))\n",
    "print(re.split(r'l', s))\n",
    "print(re.split(r'[eaoui]', s)) # разделитель - гласная\n",
    "print(re.split(r'\\b\\w{1,3}\\b', 'hello the world of long and short words')) # разделители - короткие слова"
   ]
  },
  {
   "cell_type": "code",
   "execution_count": 24,
   "metadata": {},
   "outputs": [
    {
     "name": "stdout",
     "output_type": "stream",
     "text": [
      "['hello', 'world', 'of', 'spaces']\n",
      "['hello', 'world', 'of', 'spaces']\n"
     ]
    }
   ],
   "source": [
    "# Частный случай: разбиение пробелами\n",
    "spaceful = 'hello  \\t   world  \\n  of  spaces'\n",
    "print(spaceful.split())\n",
    "print(re.split(r'\\s+', spaceful))"
   ]
  },
  {
   "cell_type": "code",
   "execution_count": 25,
   "metadata": {},
   "outputs": [
    {
     "name": "stdout",
     "output_type": "stream",
     "text": [
      "['', 'first line', 'second line']\n",
      "['\\n', 'first line\\n', 'second line\\n']\n",
      "['', 'first line', 'second line', '']\n",
      "['\\n', 'first line\\n', 'second line\\n']\n"
     ]
    }
   ],
   "source": [
    "# Частный случай: разбиение на линии\n",
    "multiline = '''\n",
    "first line\n",
    "second line\n",
    "'''\n",
    "print(multiline.splitlines())\n",
    "print(multiline.splitlines(True))\n",
    "print(re.split(r'\\n', multiline))\n",
    "print(re.findall(r'.*\\n', multiline)) # не придумал, как сделать на re.split"
   ]
  },
  {
   "cell_type": "markdown",
   "metadata": {},
   "source": [
    "Важный неприятный момент: если поиск оказался неуспешным, то `re.match` или `re.sub` вернут не \"пустой результат\" типа `_sre.SRE_Match`, а значение другого типа - `None`.\n",
    "\n",
    "Для проверки на истинность это непринципиально, а вот для глубокого анализа - уже потребует ветвлений."
   ]
  },
  {
   "cell_type": "code",
   "execution_count": 26,
   "metadata": {},
   "outputs": [
    {
     "name": "stdout",
     "output_type": "stream",
     "text": [
      "None\n"
     ]
    }
   ],
   "source": [
    "print(re.match(r'something', 'hello the world'))"
   ]
  },
  {
   "cell_type": "code",
   "execution_count": 27,
   "metadata": {},
   "outputs": [
    {
     "name": "stdout",
     "output_type": "stream",
     "text": [
      "6\n",
      "-1\n"
     ]
    }
   ],
   "source": [
    "print(s.find('the'))  # позиция искомой подстроки\n",
    "print(s.find('some')) # либо -1 как признак неудачи"
   ]
  },
  {
   "cell_type": "code",
   "execution_count": 28,
   "metadata": {},
   "outputs": [
    {
     "name": "stdout",
     "output_type": "stream",
     "text": [
      "6\n",
      "None\n"
     ]
    }
   ],
   "source": [
    "s = 'hello the world'\n",
    "print(re.search(r'the', s).start())\n",
    "print(re.search(r'some', s)) # у None нет метода start()"
   ]
  },
  {
   "cell_type": "code",
   "execution_count": 29,
   "metadata": {},
   "outputs": [
    {
     "name": "stdout",
     "output_type": "stream",
     "text": [
      "not found\n"
     ]
    }
   ],
   "source": [
    "rs = re.search(r'some', 'hello the world')\n",
    "if rs:\n",
    "    print(rs.start())\n",
    "else:\n",
    "    print('not found')"
   ]
  },
  {
   "cell_type": "markdown",
   "metadata": {},
   "source": [
    "### Сложные замены\n",
    "Заменять искомую подстроку можно на:"
   ]
  },
  {
   "cell_type": "code",
   "execution_count": 30,
   "metadata": {},
   "outputs": [
    {
     "data": {
      "text/plain": [
       "'hello some world'"
      ]
     },
     "execution_count": 30,
     "metadata": {},
     "output_type": "execute_result"
    }
   ],
   "source": [
    "# постоянную строку (это самое простое)\n",
    "re.sub(r'the', 'some', 'hello the world')"
   ]
  },
  {
   "cell_type": "code",
   "execution_count": 31,
   "metadata": {},
   "outputs": [
    {
     "data": {
      "text/plain": [
       "'<hello> <the> <world>'"
      ]
     },
     "execution_count": 31,
     "metadata": {},
     "output_type": "execute_result"
    }
   ],
   "source": [
    "# комбинацию из частей искомой строки (ниже мы поговорим про группы)\n",
    "re.sub(r'\\b(\\w+)\\b', r'<\\1>', 'hello the world')"
   ]
  },
  {
   "cell_type": "code",
   "execution_count": 32,
   "metadata": {},
   "outputs": [
    {
     "data": {
      "text/plain": [
       "'he<l,l> the<w, >rld'"
      ]
     },
     "execution_count": 32,
     "metadata": {},
     "output_type": "execute_result"
    }
   ],
   "source": [
    "re.sub(r'(.)(.)o', r'<\\2,\\1>', 'hello the world')"
   ]
  },
  {
   "cell_type": "markdown",
   "metadata": {},
   "source": [
    "И наконец, самое интересное: замена на результат вычислений.\n",
    "\n",
    "Например, мы можем перевести искомую строку в верхний регистр."
   ]
  },
  {
   "cell_type": "code",
   "execution_count": 33,
   "metadata": {},
   "outputs": [
    {
     "data": {
      "text/plain": [
       "'hEllO thE wOrld'"
      ]
     },
     "execution_count": 33,
     "metadata": {},
     "output_type": "execute_result"
    }
   ],
   "source": [
    "re.sub(r'[aoe]', lambda m : m.group().upper(), 'hello the world')"
   ]
  },
  {
   "cell_type": "code",
   "execution_count": 34,
   "metadata": {},
   "outputs": [
    {
     "data": {
      "text/plain": [
       "'hello%20%09%20world'"
      ]
     },
     "execution_count": 34,
     "metadata": {},
     "output_type": "execute_result"
    }
   ],
   "source": [
    "def encode(c):\n",
    "    return '%%%02X' % ord(c)\n",
    "\n",
    "re.sub(r'\\s', lambda m : encode(m.group()), 'hello \\t world')"
   ]
  },
  {
   "cell_type": "code",
   "execution_count": 35,
   "metadata": {},
   "outputs": [
    {
     "data": {
      "text/plain": [
       "'hello \\t world'"
      ]
     },
     "execution_count": 35,
     "metadata": {},
     "output_type": "execute_result"
    }
   ],
   "source": [
    "def decode(m):\n",
    "    e = m.group(1)\n",
    "    i = int(e, 16)\n",
    "    return chr(i)\n",
    "\n",
    "re.sub(r'%([0-9a-fA-F]{2})', decode, 'hello%20%09%20world')"
   ]
  },
  {
   "cell_type": "markdown",
   "metadata": {},
   "source": [
    "### Группы\n",
    "Результат сопоставления - это не просто подстрока, а нечто, обладающее структурой.\n",
    "\n",
    "Мы можем узнать, каким фрагментам регекспа соответствуют те или иные фрагменты строки. Границы этих фрагментов обозначаются в регекспе скобками."
   ]
  },
  {
   "cell_type": "code",
   "execution_count": 36,
   "metadata": {},
   "outputs": [
    {
     "name": "stdout",
     "output_type": "stream",
     "text": [
      "('hello', 'the', 'h')\n"
     ]
    }
   ],
   "source": [
    "print(re.match(r'\\b(\\w+)\\b (\\w(\\w)\\w)', 'hello the world').groups()) # вывести все группы\n",
    "#                  1___1      3__3\n",
    "#                          2________2"
   ]
  },
  {
   "cell_type": "code",
   "execution_count": 37,
   "metadata": {},
   "outputs": [
    {
     "name": "stdout",
     "output_type": "stream",
     "text": [
      "hello the\n",
      "hello the\n",
      "('hello', 'h')\n"
     ]
    }
   ],
   "source": [
    "m = re.match(r'\\b(\\w+)\\b (\\w(\\w)\\w)', 'hello the world')\n",
    "print(m.group())\n",
    "print(m.group(0))\n",
    "print(m.group(1,3)) # кортеж из только тех групп, которые нас интересуют"
   ]
  },
  {
   "cell_type": "code",
   "execution_count": 38,
   "metadata": {},
   "outputs": [
    {
     "name": "stdout",
     "output_type": "stream",
     "text": [
      "('hello the wo', 'e wo', ' w')\n"
     ]
    }
   ],
   "source": [
    "print(re.match(r'(.(..).)+', 'hello the world').group(0, 1, 2))\n",
    "#                             |__________| - 0\n",
    "#                             |__||__||__| - 1 & 2\n",
    "# Штирлиц знал, что запоминается последнее"
   ]
  },
  {
   "cell_type": "markdown",
   "metadata": {},
   "source": [
    "Что будет, если группа участвует в повторе?"
   ]
  },
  {
   "cell_type": "code",
   "execution_count": 39,
   "metadata": {},
   "outputs": [
    {
     "name": "stdout",
     "output_type": "stream",
     "text": [
      "('hello the wo', 'e wo', ' w')\n"
     ]
    }
   ],
   "source": [
    "print(re.match(r'(.(..).)+', 'hello the world').group(0, 1, 2))\n",
    "#                             |__________| - 0\n",
    "#                             |__||__||__| - 1 & 2\n",
    "# Штирлиц знал, что запоминается последнее"
   ]
  },
  {
   "cell_type": "markdown",
   "metadata": {},
   "source": [
    "Всё просто и понятно: парсер - это автомат. Он бежит и запоминает: \"скобка номер N встретилась в позиции P\", потом добегает до следующего удачного сопадения и запоминает новую позицию, и так далее."
   ]
  },
  {
   "cell_type": "markdown",
   "metadata": {},
   "source": [
    "А если группа участвует в альтернативе?"
   ]
  },
  {
   "cell_type": "code",
   "execution_count": 40,
   "metadata": {},
   "outputs": [
    {
     "name": "stdout",
     "output_type": "stream",
     "text": [
      "('hello', None)\n"
     ]
    }
   ],
   "source": [
    "print(re.match(r'(hello)|(goodbye)', 'hello the world').groups())"
   ]
  },
  {
   "cell_type": "markdown",
   "metadata": {},
   "source": [
    "Ещё одна бомбочка от системы типов питона: отсутствующая группа - это не пустая строка, а `None`"
   ]
  },
  {
   "cell_type": "markdown",
   "metadata": {},
   "source": [
    "Ну и последняя забавная бомбочка: альтернатива в цикле"
   ]
  },
  {
   "cell_type": "code",
   "execution_count": 41,
   "metadata": {},
   "outputs": [
    {
     "name": "stdout",
     "output_type": "stream",
     "text": [
      "('o', 'd')\n"
     ]
    }
   ],
   "source": [
    "print(re.match(r'(([aouei])|(.))+', 'hello the world').group(2, 3))\n",
    "# последняя гласная, последняя согласная"
   ]
  },
  {
   "cell_type": "markdown",
   "metadata": {},
   "source": [
    "### Именованные группы\n",
    "Или - что делать, если скобок слишком много? И далеко не все они нам важны?\n",
    "\n",
    "В строках подстановки и обратных ссылках (об этом позже) мы ограничены именами `\"\\1\"` - `\"\\99999\"`, которые, к тому же, конфликтуют с обычными цифрами, идущими вслед за именем.\n",
    "\n",
    "Если мы собираем регексп из кусочков, номера групп могут меняться."
   ]
  },
  {
   "cell_type": "code",
   "execution_count": 42,
   "metadata": {},
   "outputs": [],
   "source": [
    "r1 = r'(I|thou|he|she)|(we|you|they)' # 1 - singular, 2 - plural\n",
    "r2 = r'(we|you|they)|(I|thou|he|she)' # 1 - plural, 2 - singular"
   ]
  },
  {
   "cell_type": "code",
   "execution_count": 43,
   "metadata": {},
   "outputs": [
    {
     "name": "stdout",
     "output_type": "stream",
     "text": [
      "{'singular': 'I', 'plural': None}\n",
      "{'singular': None, 'plural': 'you'}\n"
     ]
    }
   ],
   "source": [
    "# (?P<name>...) - именованная группа (по-прежнему доступна и по номеру)\n",
    "rs = r'(?P<singular>I|thou|he|she)'\n",
    "rp = r'(?P<plural>we|you|they)'\n",
    "r = rs + '|' + rp # или наоборот\n",
    "print(re.search(r, 'I and you').groupdict())\n",
    "print(re.search(r, 'you and I').groupdict())"
   ]
  },
  {
   "cell_type": "markdown",
   "metadata": {},
   "source": [
    "### Ненумерованная группа\n",
    "Не захламляет пространство номеров"
   ]
  },
  {
   "cell_type": "code",
   "execution_count": 44,
   "metadata": {},
   "outputs": [
    {
     "data": {
      "text/plain": [
       "'the world'"
      ]
     },
     "execution_count": 44,
     "metadata": {},
     "output_type": "execute_result"
    }
   ],
   "source": [
    "# (?:...) ненумерованная группа\n",
    "re.match(r'(?:hello|goodbye) (.*)', 'hello the world').group(1)"
   ]
  },
  {
   "cell_type": "code",
   "execution_count": 45,
   "metadata": {},
   "outputs": [
    {
     "data": {
      "text/plain": [
       "('abba', 'dddd')"
      ]
     },
     "execution_count": 45,
     "metadata": {},
     "output_type": "execute_result"
    }
   ],
   "source": [
    "re.match(r'((?:a|bb|ccc)+)(d+)', 'abbadddd').group(1, 2)"
   ]
  },
  {
   "cell_type": "markdown",
   "metadata": {},
   "source": [
    "### Где использовать именованные группы?\n",
    "* В запросах к результату поиска - методы group, groups, groupdict\n",
    "* В строках подстановки\n",
    "* В обратных ссылках"
   ]
  },
  {
   "cell_type": "code",
   "execution_count": 46,
   "metadata": {},
   "outputs": [
    {
     "data": {
      "text/plain": [
       "'there were Beta and Alfa sitting on a tube'"
      ]
     },
     "execution_count": 46,
     "metadata": {},
     "output_type": "execute_result"
    }
   ],
   "source": [
    "re.sub(r'(?P<first>\\b\\w+\\b) (?P<junction>and|or) (?P<second>\\b\\w+\\b)',\n",
    "       r'\\g<second> \\g<junction> \\g<first>',\n",
    "       'there were Alfa and Beta sitting on a tube')"
   ]
  },
  {
   "cell_type": "code",
   "execution_count": 47,
   "metadata": {},
   "outputs": [
    {
     "name": "stdout",
     "output_type": "stream",
     "text": [
      "('bold', 'text goes', '<bold>text goes</bold>')\n"
     ]
    }
   ],
   "source": [
    "m = re.search(r'<(?P<tag>\\w+)[^>]*>(?P<inside>.*?)</(?P=tag)>',\n",
    "              'some <bold>text goes</bold> here')\n",
    "print(m.group('tag', 'inside', 0))"
   ]
  },
  {
   "cell_type": "markdown",
   "metadata": {},
   "source": [
    "Это был пример контекстно-зависимой грамматики. Тут надо подумать, как это записать. Что-то наподобие\n",
    "```\n",
    "S             ->  tag T body B\n",
    "T             ->  [a-z]+\n",
    "B             ->  .*\n",
    "tag T body B  ->  \"<\" T \">\" B \"</\" T \">\"\n",
    "```"
   ]
  },
  {
   "cell_type": "markdown",
   "metadata": {},
   "source": [
    "### Заглядывание (look ahead, look behind)\n",
    "Это предусловия: \"если мы встретили строку, то...\" саму эту строку не запоминаем."
   ]
  },
  {
   "cell_type": "code",
   "execution_count": 48,
   "metadata": {},
   "outputs": [
    {
     "name": "stdout",
     "output_type": "stream",
     "text": [
      "<_sre.SRE_Match object; span=(0, 5), match='hello'>\n",
      "<_sre.SRE_Match object; span=(0, 3), match='yes'>\n",
      "None\n"
     ]
    }
   ],
   "source": [
    "# (?=...) - начиная с этого места, будет совпадение\n",
    "r = r'(?=.*?[!])\\w+' # первое слово восклицательного предложения\n",
    "for phrase in ['hello!', 'yes it is!', 'is anybody there?']:\n",
    "    print(re.match(r, phrase))"
   ]
  },
  {
   "cell_type": "code",
   "execution_count": 49,
   "metadata": {},
   "outputs": [
    {
     "name": "stdout",
     "output_type": "stream",
     "text": [
      "<_sre.SRE_Match object; span=(0, 2), match='it'>\n",
      "<_sre.SRE_Match object; span=(0, 3), match='not'>\n",
      "None\n"
     ]
    }
   ],
   "source": [
    "# (?!...) - не будет совпадения (отсечка)\n",
    "r = r'(?!.*?white monkey)\\w+' # первое слово предложения, не содержащего белую обезьяну\n",
    "for phrase in ['it is very easy', 'not to think', 'about white monkey or something else']:\n",
    "    print(re.match(r, phrase))"
   ]
  },
  {
   "cell_type": "code",
   "execution_count": 50,
   "metadata": {},
   "outputs": [
    {
     "data": {
      "text/plain": [
       "<_sre.SRE_Match object; span=(18, 23), match=' 456!'>"
      ]
     },
     "execution_count": 50,
     "metadata": {},
     "output_type": "execute_result"
    }
   ],
   "source": [
    "# (?<=...) - текущей позиции предшествовало...\n",
    "# (?<!...) - или не предшествовало...\n",
    "re.search(r'(?<=hello) \\d+[!]', 'goodbye 123! hello 456!')"
   ]
  },
  {
   "cell_type": "code",
   "execution_count": 51,
   "metadata": {},
   "outputs": [
    {
     "data": {
      "text/plain": [
       "<_sre.SRE_Match object; span=(18, 22), match=' 456'>"
      ]
     },
     "execution_count": 51,
     "metadata": {},
     "output_type": "execute_result"
    }
   ],
   "source": [
    "re.search(r'(?<!hello) \\d+', 'hello 123! goodbye 456!')"
   ]
  },
  {
   "cell_type": "markdown",
   "metadata": {},
   "source": [
    "### Итерирование по результатам поиска\n",
    "Мы можем\n",
    "\n",
    "* выполнить одну или все подстановки (если занимаемся подстановками)\n",
    "* как уже выяснили, для каждой подстановки вызвать колбек-функцию\n",
    "* найти первое совпадение\n",
    "\n",
    "Наверное, есть способы\n",
    "\n",
    "* найти следующее совпадение\n",
    "* все совпадения"
   ]
  },
  {
   "cell_type": "code",
   "execution_count": 52,
   "metadata": {},
   "outputs": [
    {
     "name": "stdout",
     "output_type": "stream",
     "text": [
      "2 llo the world\n",
      "3 lo the world\n",
      "13 ld\n"
     ]
    }
   ],
   "source": [
    "s = 'hello the world'\n",
    "p = -1\n",
    "while True:\n",
    "    p = s.find('l', p+1)\n",
    "    if p < 0:\n",
    "        break\n",
    "    print(p, s[p:])"
   ]
  },
  {
   "cell_type": "code",
   "execution_count": 53,
   "metadata": {},
   "outputs": [
    {
     "data": {
      "text/plain": [
       "['he', 'lo', 'he', 'wo']"
      ]
     },
     "execution_count": 53,
     "metadata": {},
     "output_type": "execute_result"
    }
   ],
   "source": [
    "re.findall(r'[^aouei][aouei]', s) # пара согласная-гласная"
   ]
  },
  {
   "cell_type": "code",
   "execution_count": 54,
   "metadata": {},
   "outputs": [
    {
     "name": "stdout",
     "output_type": "stream",
     "text": [
      "<_sre.SRE_Match object; span=(0, 2), match='he'>\n",
      "<_sre.SRE_Match object; span=(3, 5), match='lo'>\n",
      "<_sre.SRE_Match object; span=(7, 9), match='he'>\n",
      "<_sre.SRE_Match object; span=(10, 12), match='wo'>\n"
     ]
    }
   ],
   "source": [
    "for m in re.finditer(r'[^aouei][aouei]', s):\n",
    "    print(m)"
   ]
  },
  {
   "cell_type": "markdown",
   "metadata": {},
   "source": [
    "### Многострочные тексты\n",
    "Последний нюанс, о котором хочется сказать: как регекспы работают со строками, содержащими перевод строки.\n",
    "\n",
    "Метасимволы `\"^\"`, `\"$\"` могут обозначать или начало и конец всей строки, или начало и конец каждой линии. Этим управляет флаг `re.MULTILINE`, передаваемый через необязательный параметр `flags`.\n",
    "\n",
    "Начало и конец всей строки, вне зависимости от `MULTILINE`, также обозначаются как `\"\\A\" / \"\\Z\"`\n",
    "\n",
    "Класс `\".\"` может обозначать или любой символ, кроме начала-конца (т.е. кроме перевода строки), или вообще любой символ. Этим управляет флаг `re.DOTALL`"
   ]
  },
  {
   "cell_type": "code",
   "execution_count": 55,
   "metadata": {},
   "outputs": [],
   "source": [
    "src = '''\n",
    "# def foo(): # эта строка закомментирована, мы её не считаем\n",
    "def bar(x,y,z):\n",
    "    def buz(): # вложенная функция\n",
    "        pass\n",
    "    pass\n",
    "'''"
   ]
  },
  {
   "cell_type": "code",
   "execution_count": 56,
   "metadata": {},
   "outputs": [
    {
     "data": {
      "text/plain": [
       "[]"
      ]
     },
     "execution_count": 56,
     "metadata": {},
     "output_type": "execute_result"
    }
   ],
   "source": [
    "re.findall(r'^.*$', src)"
   ]
  },
  {
   "cell_type": "code",
   "execution_count": 57,
   "metadata": {},
   "outputs": [
    {
     "data": {
      "text/plain": [
       "['',\n",
       " '# def foo(): # эта строка закомментирована, мы её не считаем',\n",
       " 'def bar(x,y,z):',\n",
       " '    def buz(): # вложенная функция',\n",
       " '        pass',\n",
       " '    pass',\n",
       " '']"
      ]
     },
     "execution_count": 57,
     "metadata": {},
     "output_type": "execute_result"
    }
   ],
   "source": [
    "re.findall(r'^.*$', src, flags=re.MULTILINE)"
   ]
  },
  {
   "cell_type": "code",
   "execution_count": 58,
   "metadata": {},
   "outputs": [
    {
     "data": {
      "text/plain": [
       "['\\n# def foo(): # эта строка закомментирована, мы её не считаем\\ndef bar(x,y,z):\\n    def buz(): # вложенная функция\\n        pass\\n    pass\\n']"
      ]
     },
     "execution_count": 58,
     "metadata": {},
     "output_type": "execute_result"
    }
   ],
   "source": [
    "re.findall(r'^.*$', src, flags=re.DOTALL)"
   ]
  },
  {
   "cell_type": "markdown",
   "metadata": {},
   "source": [
    "Таким образом, мы можем загрузить весь текст (файл - не слишком большого размера) в одну строку, и работать с ним, как с единым целым - либо, наоборот, построчно. При этом не требуется ни разбивать на строки, ни склеивать их - на тот случай, если мы, к примеру, ищем парные тэги."
   ]
  },
  {
   "cell_type": "markdown",
   "metadata": {},
   "source": [
    "### Пара слов о неоднозначностях в регекспах\n",
    "* Альтернативы\n",
    "* Последовательности\n",
    "* Последовательности с квантификаторами"
   ]
  },
  {
   "cell_type": "markdown",
   "metadata": {},
   "source": [
    "### Выбор альтернативы\n",
    "Если в регекспе встречается ветвление, - то предпочтение отдаётся самой левой из веток. Даже если правее есть более полное, на наш взгляд, совпадение."
   ]
  },
  {
   "cell_type": "code",
   "execution_count": 59,
   "metadata": {},
   "outputs": [
    {
     "data": {
      "text/plain": [
       "<_sre.SRE_Match object; span=(9, 14), match='hello'>"
      ]
     },
     "execution_count": 59,
     "metadata": {},
     "output_type": "execute_result"
    }
   ],
   "source": [
    "re.search(r'(hello|helloworld)', 'look for helloworld in the text')"
   ]
  },
  {
   "cell_type": "code",
   "execution_count": 60,
   "metadata": {},
   "outputs": [
    {
     "data": {
      "text/plain": [
       "('h', 'elloworld')"
      ]
     },
     "execution_count": 60,
     "metadata": {},
     "output_type": "execute_result"
    }
   ],
   "source": [
    "re.search(r'(h|hello)(\\w+)', 'look for helloworld in the text').groups()"
   ]
  },
  {
   "cell_type": "markdown",
   "metadata": {},
   "source": [
    "### Последовательности и откаты\n",
    "Если выбор первой альтернативы привёл к тому, что далее нет совпадений, - парсер откатывается и пробует следующую альтернативу."
   ]
  },
  {
   "cell_type": "code",
   "execution_count": 61,
   "metadata": {},
   "outputs": [
    {
     "data": {
      "text/plain": [
       "('hell', 'owo', 'rld')"
      ]
     },
     "execution_count": 61,
     "metadata": {},
     "output_type": "execute_result"
    }
   ],
   "source": [
    "re.search(r'(hellow|hell)(owo|orl)(rld)', 'look for helloworld in the text').groups()"
   ]
  },
  {
   "cell_type": "markdown",
   "metadata": {},
   "source": [
    "### Последовательности с квантификаторами\n",
    "Регексп с квантификатором `(*, +, {m,n})` можно трактовать как (бесконечный) список альтернатив\n",
    "\n",
    "* ленивый `(X*?)` - по возрастанию `(|X|XX|XXX|etc...)`\n",
    "* жадный `(X*)` - по убыванию `(...etc|XXX|XX|X|)`"
   ]
  },
  {
   "cell_type": "code",
   "execution_count": 62,
   "metadata": {},
   "outputs": [
    {
     "data": {
      "text/plain": [
       "('XXXX', 'X', 'Y')"
      ]
     },
     "execution_count": 62,
     "metadata": {},
     "output_type": "execute_result"
    }
   ],
   "source": [
    "re.search(r'(X+)(\\w+)(Y)', 'X XXXX XXXXXY XXY').groups()"
   ]
  },
  {
   "cell_type": "code",
   "execution_count": 63,
   "metadata": {},
   "outputs": [
    {
     "data": {
      "text/plain": [
       "('X', 'XXXX', 'Y')"
      ]
     },
     "execution_count": 63,
     "metadata": {},
     "output_type": "execute_result"
    }
   ],
   "source": [
    "re.search(r'(X+?)(\\w+?)(Y)', 'X XXXX XXXXXY XXY').groups()"
   ]
  },
  {
   "cell_type": "markdown",
   "metadata": {},
   "source": [
    "\n",
    "### В плохих случаях перебор с откатами приводит к комбинаторному взрыву\n",
    "http://www.regular-expressions.info/catastrophic.html \n",
    "* пример из статьи: `((X+)(X+))+Y`\n",
    "* чуть помягче: `(\\w+)+Y` \n",
    "\n",
    "**Пути решения:** добавлять негативные условия (классы символов, lookahead'ы) избегать альтернатив с одинаковым началом отдавать предпочтение ленивому сопоставлению если бы это был Перл, то расставлять атомарную группировку (но увы)."
   ]
  },
  {
   "cell_type": "markdown",
   "metadata": {},
   "source": [
    "### Заключение\n",
    "Регекспы - мощный и совсем не страшный инструмент. Хотя и головоломный.\n",
    "\n",
    "Изучите их, чтобы\n",
    "* прокачать мозги\n",
    "* использовать во всяких текстовых редакторах\n",
    "* упростить скрипты, работающие с текстом\n",
    "\n",
    "Ключевое слово: **УПРОСТИТЬ!**\n",
    "\n",
    "Коллеги не простят вам, если вы воткнёте регексп из `RFC822` без комментариев и цифровой подписи."
   ]
  },
  {
   "cell_type": "markdown",
   "metadata": {},
   "source": [
    "### Справочная документация\n",
    "Библиотека питона:\n",
    "https://docs.python.org/3/library/re.html\n",
    "\n",
    "Большой учебник/справочник по регекспам:\n",
    "http://www.regular-expressions.info/tutorial.html"
   ]
  }
 ],
 "metadata": {
  "kernelspec": {
   "display_name": "Python 3",
   "language": "python",
   "name": "python3"
  },
  "language_info": {
   "codemirror_mode": {
    "name": "ipython",
    "version": 3
   },
   "file_extension": ".py",
   "mimetype": "text/x-python",
   "name": "python",
   "nbconvert_exporter": "python",
   "pygments_lexer": "ipython3",
   "version": "3.6.3"
  }
 },
 "nbformat": 4,
 "nbformat_minor": 2
}
