{
 "cells": [
  {
   "cell_type": "markdown",
   "metadata": {},
   "source": [
    "# Основные типы данных"
   ]
  },
  {
   "cell_type": "code",
   "execution_count": 1,
   "metadata": {},
   "outputs": [
    {
     "name": "stdout",
     "output_type": "stream",
     "text": [
      "Логический тип это <class 'bool'>\n"
     ]
    }
   ],
   "source": [
    "# Логические\n",
    "is_true = True\n",
    "is_false = False\n",
    "print(f\"Логический тип это {type(is_true)}\")"
   ]
  },
  {
   "cell_type": "code",
   "execution_count": 2,
   "metadata": {},
   "outputs": [
    {
     "name": "stdout",
     "output_type": "stream",
     "text": [
      "Целые числа\n",
      " 'a' = 4 и имеет тип <class 'int'>\n",
      " 'b' = 5 и имеет тип <class 'int'>\n"
     ]
    }
   ],
   "source": [
    "# Целые числа\n",
    "# Числа без плавующей точки\n",
    "a = 4\n",
    "b = 5\n",
    "print(f\"Целые числа\\n 'a' = {a} и имеет тип {type(a)}\")\n",
    "print(f\" 'b' = {b} и имеет тип {type(b)}\")"
   ]
  },
  {
   "cell_type": "code",
   "execution_count": 3,
   "metadata": {},
   "outputs": [
    {
     "name": "stdout",
     "output_type": "stream",
     "text": [
      "Вещественные числа\n",
      " 'a' = 1.0 и имеет тип <class 'float'>\n",
      " 'b' = 5.999 и имеет тип <class 'float'>\n"
     ]
    }
   ],
   "source": [
    "# Числа с плавующей точкой\n",
    "a = 1.0\n",
    "b = 5.999\n",
    "print(f\"Вещественные числа\\n 'a' = {a} и имеет тип {type(a)}\")\n",
    "print(f\" 'b' = {b} и имеет тип {type(b)}\")"
   ]
  },
  {
   "cell_type": "code",
   "execution_count": 4,
   "metadata": {},
   "outputs": [
    {
     "name": "stdout",
     "output_type": "stream",
     "text": [
      "Некоторый текст \t\n",
      "содержащий символы {a}\n"
     ]
    }
   ],
   "source": [
    "# Строки\n",
    "string = \"Некоторый текст \\t\\nсодержащий символы {a}\"\n",
    "a = \"Python\"\n",
    "# Обычная строка в которой все спец символы экранируются и заменяются\n",
    "print(string)"
   ]
  },
  {
   "cell_type": "code",
   "execution_count": 5,
   "metadata": {},
   "outputs": [
    {
     "name": "stdout",
     "output_type": "stream",
     "text": [
      "Некоторый текст \\t\\nсодержащий символы {a}\n"
     ]
    }
   ],
   "source": [
    "# \"Сырые строки\" тображает \"все\" символы\n",
    "new_string = r\"Некоторый текст \\t\\nсодержащий символы {a}\"\n",
    "print(new_string)"
   ]
  },
  {
   "cell_type": "code",
   "execution_count": 6,
   "metadata": {},
   "outputs": [],
   "source": [
    "# Форматированые строки позволяют форматировать вывод\n",
    "new_string = f\"Некоторый текст \\t\\nсодержащий символы {a}\""
   ]
  },
  {
   "cell_type": "code",
   "execution_count": 7,
   "metadata": {},
   "outputs": [
    {
     "name": "stdout",
     "output_type": "stream",
     "text": [
      "Некоторый текст \t\n",
      "содержащий символы Python\n"
     ]
    }
   ],
   "source": [
    "print(new_string)"
   ]
  },
  {
   "cell_type": "code",
   "execution_count": 8,
   "metadata": {},
   "outputs": [
    {
     "name": "stdout",
     "output_type": "stream",
     "text": [
      "Выводим <class 'tuple'> содержащий (1, 2, 3, 4, 5)\n"
     ]
    }
   ],
   "source": [
    "# Кортежи — упорядоченные неизменяемые последовательности значений.\n",
    "my_tuple = (1, 2, 3, 4, 5)\n",
    "print(f\"Выводим {type(my_tuple)} содержащий {my_tuple}\")"
   ]
  },
  {
   "cell_type": "code",
   "execution_count": 9,
   "metadata": {},
   "outputs": [
    {
     "name": "stdout",
     "output_type": "stream",
     "text": [
      "Выводим <class 'list'> содержащий [1, 2, 3, 4, 5]\n"
     ]
    }
   ],
   "source": [
    "# Списки — упорядоченные последовательности значений.\n",
    "my_list = [1, 2, 3, 4, 5]\n",
    "print(f\"Выводим {type(my_list)} содержащий {my_list}\")"
   ]
  },
  {
   "cell_type": "code",
   "execution_count": 10,
   "metadata": {},
   "outputs": [
    {
     "name": "stdout",
     "output_type": "stream",
     "text": [
      "Выводим <class 'set'> содержащий {1, 4, 5, 6}\n"
     ]
    }
   ],
   "source": [
    "# Множества — неупорядоченные наборы уникальных значений.\n",
    "my_set = set([1, 1, 4, 5, 6])\n",
    "print(f\"Выводим {type(my_set)} содержащий {my_set}\")"
   ]
  },
  {
   "cell_type": "code",
   "execution_count": 11,
   "metadata": {},
   "outputs": [
    {
     "name": "stdout",
     "output_type": "stream",
     "text": [
      "my_tuple[0] = 1, my_list[1] = 2\n"
     ]
    }
   ],
   "source": [
    "\"\"\"\n",
    "Типы данных Tuple, List и Set - это индексные типы, т.е. к \n",
    "любому элименту помжно обратится через его индекс.\n",
    "\"\"\"\n",
    "print(f\"my_tuple[0] = {my_tuple[0]}, my_list[1] = {my_list[1]}\")"
   ]
  },
  {
   "cell_type": "code",
   "execution_count": 12,
   "metadata": {},
   "outputs": [
    {
     "name": "stdout",
     "output_type": "stream",
     "text": [
      "Это словарь:{'language': 'Python', 'version': '3.6'}\n",
      "Это его ключи dict_keys(['language', 'version'])\n",
      "Это его значения dict_values(['Python', '3.6'])\n",
      "А еще можно обратиться так my_dict['language'] и получить значение Python\n"
     ]
    }
   ],
   "source": [
    "# Словари — неупорядоченные наборы пар вида ключ-значение.\"\n",
    "my_dict = {'language': 'Python', 'version': '3.6'}\n",
    "print(f\"Это словарь:{my_dict}\")\n",
    "print(f\"Это его ключи {my_dict.keys()}\")\n",
    "print(f\"Это его значения {my_dict.values()}\")\n",
    "print(f\"А еще можно обратиться так my_dict['language'] и получить значение {my_dict['language']}\")"
   ]
  },
  {
   "cell_type": "markdown",
   "metadata": {},
   "source": [
    "**В чем разница между tuple and list?**    \n",
    "**Кортежи** (_Tuple_) неизменяемы, а **списки** (_List_) - изменяемые. \n",
    "Это основная разница. Кортежы быстрее, чем списки и стоит их использовать \n",
    "там, где есть набор элементов не требующий изменения.\n"
   ]
  },
  {
   "cell_type": "markdown",
   "metadata": {},
   "source": [
    "**Что такое set?**    \n",
    "**Множество** (_Set_) — это «мешок», содержащий неупорядоченные уникальные значения. Одно множество может содержать значения любых типов. Если у вас есть два множества, вы можете совершать над ними любые стандартные перации, например: объединение, пересечение и разность."
   ]
  },
  {
   "cell_type": "code",
   "execution_count": 13,
   "metadata": {},
   "outputs": [
    {
     "name": "stdout",
     "output_type": "stream",
     "text": [
      "Случайные список random_set состоит их 25 элементов\n",
      "Случайное множество из random_list состоит их 17 элементов\n",
      "[0, 15, 15, 4, 21, 4, 10, 1, 2, 12, 7, 8, 11, 15, 20, 3, 9, 2, 13, 11, 16, 21, 10, 9, 5]\n",
      "{0, 1, 2, 3, 4, 5, 7, 8, 9, 10, 11, 12, 13, 15, 16, 20, 21}\n"
     ]
    }
   ],
   "source": [
    "import random\n",
    "\n",
    "ITEM = 25\n",
    "random_list = []\n",
    "\n",
    "for _ in range(ITEM):\n",
    "    rnd = int(random.random() * ITEM)\n",
    "    random_list.append(rnd)\n",
    "\n",
    "random_set = set(random_list)\n",
    "\n",
    "print(f\"Случайные список random_set состоит их {len(random_list)} элементов\")\n",
    "print(f\"Случайное множество из random_list состоит их {len(random_set)} элементов\")\n",
    "print(random_list)\n",
    "print(random_set)"
   ]
  },
  {
   "cell_type": "markdown",
   "metadata": {},
   "source": [
    "Встречяаеться задача, когда у нас есть случайный список и нам нужно удалить из него дуюлирующие элементы и получить список."
   ]
  },
  {
   "cell_type": "code",
   "execution_count": 14,
   "metadata": {},
   "outputs": [
    {
     "name": "stdout",
     "output_type": "stream",
     "text": [
      "Случайный список random_list состоит из 25 элементов \n",
      " [4, 24, 7, 3, 17, 12, 14, 20, 9, 15, 14, 2, 8, 12, 20, 1, 12, 17, 9, 6, 6, 1, 7, 18, 20]\n",
      "и имеет тит <class 'list'>\n",
      "Список без дубликатов состоит из 15 элементов\n",
      "[1, 2, 3, 4, 6, 7, 8, 9, 12, 14, 15, 17, 18, 20, 24]\n",
      "и имеет тит <class 'list'>\n"
     ]
    }
   ],
   "source": [
    "ITEM = 25\n",
    "random_list = [int(random.random() * ITEM) for _ in range(ITEM)]\n",
    "print(f\"Случайный список random_list состоит из {len(random_list)} элементов \\n {random_list}\")\n",
    "print(f\"и имеет тит {type(random_list)}\")\n",
    "random_list = list(set(random_list))\n",
    "print(f\"Список без дубликатов состоит из {len(random_list)} элементов\")\n",
    "print(random_list)\n",
    "print(f\"и имеет тит {type(random_list)}\")"
   ]
  },
  {
   "cell_type": "markdown",
   "metadata": {},
   "source": [
    "**Стандартные библиотеки питона**   \n",
    "Что можно отнести к стандартным библиотекам питона?    \n",
    "Их очень много, подробно можно увидить в документации Python (https://docs.python.org/3/library/index.html)"
   ]
  },
  {
   "cell_type": "markdown",
   "metadata": {},
   "source": [
    "**PEP 8** - руководство по написанию кода на **Python**    \n",
    "https://pythonworld.ru/osnovy/pep-8-rukovodstvo-po-napisaniyu-koda-na-python.html    \n",
    "\n",
    "Этот документ описывает соглашение о том, как писать код для языка python, включая стандартную библиотеку, входящую в состав python.\n",
    "\n",
    "PEP 8 создан на основе рекомендаций Гуидо ван Россума с добавлениями от Барри. Если где-то возникал конфликт, мы выбирали стиль Гуидо. И, конечно, этот PEP может быть неполным (фактически, он, наверное, никогда не будет закончен).\n",
    "\n",
    "Ключевая идея Гуидо такова: код читается намного больше раз, чем пишется. Собственно, рекомендации о стиле написания кода направлены на то, чтобы улучшить читаемость кода и сделать его согласованным между большим числом проектов. В идеале, весь код будет написан в едином стиле, и любой сможет легко его прочесть.\n",
    "\n",
    "Это руководство о согласованности и единстве. Согласованность с этим руководством очень важна. Согласованность внутри одного проекта еще важнее. А согласованность внутри модуля или функции — самое важное. Но важно помнить, что иногда это руководство неприменимо, и понимать, когда можно отойти от рекомендаций. Когда вы сомневаетесь, просто посмотрите на другие примеры и решите, какой выглядит лучше.\n"
   ]
  },
  {
   "cell_type": "markdown",
   "metadata": {},
   "source": [
    "# Небольшие задачи на Python"
   ]
  },
  {
   "cell_type": "code",
   "execution_count": 15,
   "metadata": {},
   "outputs": [
    {
     "name": "stdout",
     "output_type": "stream",
     "text": [
      "10 15 13\n",
      "13 10 15\n"
     ]
    }
   ],
   "source": [
    "# Swap двух и более переменных...\n",
    "a = 10\n",
    "b = 15\n",
    "c = 13\n",
    "print(a, b, c)\n",
    "a, b, c = c, a, b\n",
    "print(a, b, c)"
   ]
  },
  {
   "cell_type": "markdown",
   "metadata": {},
   "source": [
    "**Разница range и xrange**\n",
    "\n",
    "Python 2.7.x:\n",
    "```\n",
    "range() -> return list\n",
    "xrange() -> return xrange\n",
    "```\n",
    "\n",
    "Python 3.x:\n",
    "```\n",
    "range() -> return class 'range'\n",
    "```\n"
   ]
  },
  {
   "cell_type": "code",
   "execution_count": 16,
   "metadata": {},
   "outputs": [
    {
     "name": "stdout",
     "output_type": "stream",
     "text": [
      "<class 'range'>\n"
     ]
    }
   ],
   "source": [
    "print(type(range(10)))"
   ]
  },
  {
   "cell_type": "code",
   "execution_count": 17,
   "metadata": {},
   "outputs": [
    {
     "name": "stdout",
     "output_type": "stream",
     "text": [
      "Список: [7, 1, -6, 10, -8, 1, 6, -2, -5, -1, -11, 2, 5, -9, -3, -5, 2, -2, -3, -3, 4, 11, -2, 11, -4]\n",
      "min=-11\n",
      "max=11\n",
      "sum=-4\n"
     ]
    }
   ],
   "source": [
    "# Нахождение максимального, минимального, суммы\n",
    "ITEM = 25\n",
    "random_list = [int(ITEM/2- random.random() * ITEM) for _ in range(ITEM)]\n",
    "\n",
    "min_value = min(random_list)\n",
    "max_value = max(random_list)\n",
    "sum_value = sum(random_list)\n",
    "\n",
    "print(f\"Список: {random_list}\")\n",
    "print(f\"min={min_value}\")\n",
    "print(f\"max={max_value}\")\n",
    "print(f\"sum={sum_value}\")"
   ]
  },
  {
   "cell_type": "code",
   "execution_count": 18,
   "metadata": {},
   "outputs": [
    {
     "name": "stdout",
     "output_type": "stream",
     "text": [
      "[1, 3, 4, 5]\n"
     ]
    }
   ],
   "source": [
    "# Удалить повторяющиеся элементы в списке (list)\n",
    "_list = [1, 1, 3, 4, 5, 5]\n",
    "print(list(set(_list)))"
   ]
  },
  {
   "cell_type": "code",
   "execution_count": 19,
   "metadata": {},
   "outputs": [
    {
     "name": "stdout",
     "output_type": "stream",
     "text": [
      "['00', '0000000', '00', '00000', '0', '0', '0']\n",
      "0020000000200200000202020\n",
      "0010000000100100000101010\n"
     ]
    }
   ],
   "source": [
    "# Строка. Разделить строку по 'разделителю' и склеить её\n",
    "\n",
    "string = \"0010000000100100000101010\"\n",
    "separator = \"1\"\n",
    "connector = \"2\"\n",
    "list_str = string.split(separator)\n",
    "print(list_str)\n",
    "list_str = connector.join(list_str)\n",
    "print(list_str)\n",
    "print(string)\n"
   ]
  },
  {
   "cell_type": "markdown",
   "metadata": {},
   "source": [
    "** mutable and immutable types (изменяемые и неизменяемые типы)**\n",
    "\n",
    "** mutable (изменяемые) **"
   ]
  },
  {
   "cell_type": "code",
   "execution_count": 20,
   "metadata": {},
   "outputs": [],
   "source": [
    "# The following are some mutable objects:\n",
    "# list\n",
    "# dict\n",
    "# set\n",
    "# bytearray\n",
    "# user-defined classes (unless specifically made immutable)"
   ]
  },
  {
   "cell_type": "markdown",
   "metadata": {},
   "source": [
    "** immutable (неизменяемые) **"
   ]
  },
  {
   "cell_type": "code",
   "execution_count": 21,
   "metadata": {},
   "outputs": [],
   "source": [
    "# The following are some immutable objects:\n",
    "# int\n",
    "# float\n",
    "# decimal\n",
    "# bool\n",
    "# string\n",
    "# tuple\n",
    "# range\n",
    "# bytes"
   ]
  },
  {
   "cell_type": "markdown",
   "metadata": {},
   "source": [
    "Как это можно проверить?"
   ]
  },
  {
   "cell_type": "code",
   "execution_count": 22,
   "metadata": {},
   "outputs": [
    {
     "name": "stdout",
     "output_type": "stream",
     "text": [
      "Первый адрес 1904501024 второй адрес 1904501056.\n",
      "Адреса одинаковые? False\n"
     ]
    }
   ],
   "source": [
    "# Создаем переменную\n",
    "a = 5\n",
    "# Получаем адрес переменной\n",
    "first_adr = id(a)\n",
    "# изменяем значение переменной\n",
    "a = 6\n",
    "# Получаем адрес переменной\n",
    "last_adr = id(a)\n",
    "# Проверим, что у нас получилось\n",
    "print(f\"Первый адрес {first_adr} второй адрес {last_adr}.\")\n",
    "print(f\"Адреса одинаковые? {first_adr == last_adr}\")"
   ]
  },
  {
   "cell_type": "markdown",
   "metadata": {},
   "source": [
    "А теперь проверим со списком."
   ]
  },
  {
   "cell_type": "code",
   "execution_count": 23,
   "metadata": {},
   "outputs": [
    {
     "name": "stdout",
     "output_type": "stream",
     "text": [
      "Первый адрес 2177581057416 второй адрес 2177581057416.\n",
      "Адреса одинаковые? True\n"
     ]
    }
   ],
   "source": [
    "# Создаем список\n",
    "a = [5, 7 , 13]\n",
    "# Получаем адрес переменной\n",
    "first_adr = id(a)\n",
    "# изменяем значение в листе\n",
    "a[1] = 6\n",
    "# Получаем адрес переменной\n",
    "last_adr = id(a)\n",
    "# Проверим, что у нас получилось\n",
    "print(f\"Первый адрес {first_adr} второй адрес {last_adr}.\")\n",
    "print(f\"Адреса одинаковые? {first_adr == last_adr}\")"
   ]
  },
  {
   "cell_type": "markdown",
   "metadata": {},
   "source": [
    "Что мы получили?\n",
    "Данный результат ознаечает, что при использование **immutable (неизменяемые)** мы всегда получаем новый объект, а при использование **mutable (изменяемые)** объект остается тот же самый, если он умещаеться в выделенный диапазон памяти."
   ]
  },
  {
   "cell_type": "markdown",
   "metadata": {},
   "source": [
    "**Как передаются аргументы в функцию? По ссылке или значению?**\n",
    "\n",
    "Это зависит от того, какой объет передаеться. Если передается **immutable (неизменяемые)**, то передача идет _call-by-object_. Если передаеться **mutable (изменяемые)**, то передача идет _call-by-object-reference_.\n",
    "\n",
    "**call-by-object** - подразумевает, что значения в языке основаны на _объектах_, а не на _примитивных типах_, то есть «обернуты» (_«упакованы», англ. boxed_). При вызове по соиспользованию функция получает `копию` ссылки на объект. Сам объект `не копируется`.\n",
    "\n",
    "**call-by-object-reference** - функция неявно получает ссылку на переменную, использованную в качестве аргумента, вместо копии её значения."
   ]
  },
  {
   "cell_type": "code",
   "execution_count": 24,
   "metadata": {},
   "outputs": [
    {
     "name": "stdout",
     "output_type": "stream",
     "text": [
      "5\n",
      "6\n",
      "5\n"
     ]
    }
   ],
   "source": [
    "# call-by-object\n",
    "def fun(a):\n",
    "    a = a + 1\n",
    "    print(a)\n",
    "\n",
    "a = 5\n",
    "\n",
    "print(a)\n",
    "fun(a)\n",
    "print(a)"
   ]
  },
  {
   "cell_type": "code",
   "execution_count": 25,
   "metadata": {},
   "outputs": [
    {
     "name": "stdout",
     "output_type": "stream",
     "text": [
      "[1, 0, 10]\n",
      "[1, 5, 10]\n"
     ]
    }
   ],
   "source": [
    "# call-by-object-reference\n",
    "def fun(a):\n",
    "    a[1] = 5\n",
    "    \n",
    "lst = [1, 0 ,10]\n",
    "print(lst)\n",
    "fun(lst)\n",
    "print(lst)"
   ]
  },
  {
   "cell_type": "markdown",
   "metadata": {},
   "source": [
    "**Для чего нужны декораторы `@staticmethod` и `@classmethod`, что они делают.**\n",
    "\n",
    "**декораторы** - это функции обертки, которые дают воможность изменить поведение функции не меняя её код.\n",
    "\n",
    "`@staticmethod` - это декоратор, применяющийся для того, чтобы вызывать метод без создания экземпляра данного класса.\n",
    "\n",
    "`@classmethod` - это декоратор, применяющийся для того, чтобы при вызове метода в качестве первого параметра передавался класс, а не экземпляр. Так или иначе его применение связано с тем, что иногда нужно модифицировать аттрибуты класса, а не экземпляра (уже после его создания). Если метод декорирован декоратором `classmethod`, то метод можно вызывать даже до создания экземпляра класса.\n"
   ]
  },
  {
   "cell_type": "code",
   "execution_count": 26,
   "metadata": {},
   "outputs": [
    {
     "name": "stdout",
     "output_type": "stream",
     "text": [
      "30\n",
      "21\n",
      "62\n",
      "28\n"
     ]
    }
   ],
   "source": [
    "class Class1(object):\n",
    "    @staticmethod\n",
    "    def sum1(x, y):               # Статический метод\n",
    "        return x + y\n",
    "    def sum2(self, x, y):         # Обычный метод в классе\n",
    "        return x + y\n",
    "    def sum3(self, x, y):\n",
    "        return Class1.sum1(x, y)  # Вызов из метода класса\n",
    " \n",
    "print(Class1.sum1(10, 20))        # Вызываем статический метод\n",
    "c1 = Class1()\n",
    "print(c1.sum2(15, 6) )            # Вызываем метод класса\n",
    "print(c1.sum1(50, 12))            # Вызываем статический метод\n",
    "                                  # через экземпляр класса\n",
    "print(c1.sum3(23, 5))             # Вызываем статический метод\n",
    "                                  # внутри класса"
   ]
  },
  {
   "cell_type": "code",
   "execution_count": 27,
   "metadata": {},
   "outputs": [
    {
     "name": "stdout",
     "output_type": "stream",
     "text": [
      "<class '__main__.Class1'> 10\n",
      "<class '__main__.Class1'> 50\n"
     ]
    }
   ],
   "source": [
    "class Class1(object):\n",
    "    @classmethod\n",
    "    def test(cls, x): # Метод класса\n",
    "        print(cls, x)\n",
    "Class1.test(10)       # Вызываем метод через название класса\n",
    "c1 = Class1()\n",
    "c1.test(50)           # Вызываем метод класса через экземпляр"
   ]
  },
  {
   "cell_type": "markdown",
   "metadata": {},
   "source": [
    "**Чем отличаются copy.copy(x) и copy.deepcopy(x)**"
   ]
  },
  {
   "cell_type": "code",
   "execution_count": 28,
   "metadata": {},
   "outputs": [
    {
     "name": "stdout",
     "output_type": "stream",
     "text": [
      "[4, 2, 3]\n"
     ]
    }
   ],
   "source": [
    "x = [1,2,3]\n",
    "y = x\n",
    "y[0] = 4\n",
    "print(x)"
   ]
  },
  {
   "cell_type": "code",
   "execution_count": 29,
   "metadata": {},
   "outputs": [
    {
     "name": "stdout",
     "output_type": "stream",
     "text": [
      "адресс x:2177563265288 адресс y:2177563265288 и от равны? True\n"
     ]
    }
   ],
   "source": [
    "# Как так получилось? А все просто....\n",
    "print(f\"адресс x:{id(x)} адресс y:{id(y)} и от равны? {id(x) == id(y)}\")"
   ]
  },
  {
   "cell_type": "markdown",
   "metadata": {},
   "source": [
    "Что бы сделать **копию** объекта, а не его псевдоним, необходимо скопировать объект создав новый. Для этого можно использовать библиотеку `copy`"
   ]
  },
  {
   "cell_type": "code",
   "execution_count": 30,
   "metadata": {},
   "outputs": [
    {
     "name": "stdout",
     "output_type": "stream",
     "text": [
      "адресс x:2177563610376 адресс y:2177581069064 и от равны? False\n",
      "x = [1, 3, 5, 7, 9]\n",
      "y = [1, 3, 0, 7, 9]\n"
     ]
    }
   ],
   "source": [
    "x = [1, 3, 5, 7, 9]\n",
    "y = list(x)\n",
    "y[2] = 0\n",
    "print(f\"адресс x:{id(x)} адресс y:{id(y)} и от равны? {id(x) == id(y)}\")\n",
    "print(f\"x = {x}\")\n",
    "print(f\"y = {y}\")"
   ]
  },
  {
   "cell_type": "code",
   "execution_count": 31,
   "metadata": {},
   "outputs": [
    {
     "name": "stdout",
     "output_type": "stream",
     "text": [
      "адресс x:2177563489608 адресс y:2177563610376 и от равны? False\n",
      "x = [1, 3, 5, 7, 9]\n",
      "y = [1, 3, 0, 7, 9]\n"
     ]
    }
   ],
   "source": [
    "x = [1, 3, 5, 7, 9]\n",
    "import copy\n",
    "y = copy.copy(x)\n",
    "y[2] = 0\n",
    "print(f\"адресс x:{id(x)} адресс y:{id(y)} и от равны? {id(x) == id(y)}\")\n",
    "print(f\"x = {x}\")\n",
    "print(f\"y = {y}\")"
   ]
  },
  {
   "cell_type": "code",
   "execution_count": 32,
   "metadata": {},
   "outputs": [
    {
     "name": "stdout",
     "output_type": "stream",
     "text": [
      "адресс x:2177580993480 адресс y:2177581072200 и от равны? False\n",
      "x = [1, 3, ['a', 'Ops', 'c'], 7, 9]\n",
      "y = [1, 3, ['a', 'Ops', 'c'], 7, 9]\n"
     ]
    }
   ],
   "source": [
    "# А что будет, Если у нас есть вложенный объект в объект?\n",
    "x = [1, 3, [\"a\", \"b\", \"c\"], 7, 9]\n",
    "y = list(x)\n",
    "y[2][1] = \"Ops\"\n",
    "print(f\"адресс x:{id(x)} адресс y:{id(y)} и от равны? {id(x) == id(y)}\")\n",
    "print(f\"x = {x}\")\n",
    "print(f\"y = {y}\")"
   ]
  },
  {
   "cell_type": "code",
   "execution_count": 33,
   "metadata": {},
   "outputs": [
    {
     "name": "stdout",
     "output_type": "stream",
     "text": [
      "адресс x:2177581056584 адресс y:2177580993480 и от равны? False\n",
      "x = [1, 3, ['a', 'Ops', 'c'], 7, 9]\n",
      "y = [1, 3, ['a', 'Ops', 'c'], 7, 9]\n"
     ]
    }
   ],
   "source": [
    "# А если `copy`?\n",
    "x = x = [1, 3, [\"a\", \"b\", \"c\"], 7, 9]\n",
    "import copy\n",
    "y = copy.copy(x)\n",
    "y[2][1] = \"Ops\"\n",
    "print(f\"адресс x:{id(x)} адресс y:{id(y)} и от равны? {id(x) == id(y)}\")\n",
    "print(f\"x = {x}\")\n",
    "print(f\"y = {y}\")"
   ]
  },
  {
   "cell_type": "code",
   "execution_count": 34,
   "metadata": {},
   "outputs": [
    {
     "name": "stdout",
     "output_type": "stream",
     "text": [
      "адресс x:2177563490504 адресс y:2177581158472 и от равны? False\n",
      "x = [1, 3, ['a', 'Ops', 'c'], 7, 9]\n",
      "y = [1, 3, ['a', 'Ops', 'c'], 7, 9]\n"
     ]
    }
   ],
   "source": [
    "x = x = [1, 3, [\"a\", \"b\", \"c\"], 7, 9]\n",
    "y = x[:]\n",
    "y[2][1] = \"Ops\"\n",
    "print(f\"адресс x:{id(x)} адресс y:{id(y)} и от равны? {id(x) == id(y)}\")\n",
    "print(f\"x = {x}\")\n",
    "print(f\"y = {y}\")"
   ]
  },
  {
   "cell_type": "markdown",
   "metadata": {},
   "source": [
    "Вот тут нам и нужно использовать `copy.deepcopy(x)`"
   ]
  },
  {
   "cell_type": "code",
   "execution_count": 35,
   "metadata": {},
   "outputs": [
    {
     "name": "stdout",
     "output_type": "stream",
     "text": [
      "адресс x:2177581159560 адресс y:2177563490504 и от равны? False\n",
      "x = [1, 3, ['a', 'b', 'c'], 7, 9]\n",
      "y = [1, 3, ['a', 'Ops', 'c'], 7, 9]\n"
     ]
    }
   ],
   "source": [
    "x = x = [1, 3, [\"a\", \"b\", \"c\"], 7, 9]\n",
    "import copy\n",
    "y = copy.deepcopy(x)\n",
    "y[2][1] = \"Ops\"\n",
    "print(f\"адресс x:{id(x)} адресс y:{id(y)} и от равны? {id(x) == id(y)}\")\n",
    "print(f\"x = {x}\")\n",
    "print(f\"y = {y}\")"
   ]
  },
  {
   "cell_type": "code",
   "execution_count": 36,
   "metadata": {},
   "outputs": [
    {
     "name": "stdout",
     "output_type": "stream",
     "text": [
      "{'__module__': '__main__', '_a1': 4, '_A__a2': 5, 'gt': <function A.gt at 0x000001FB01F2BBF8>, '__dict__': <attribute '__dict__' of 'A' objects>, '__weakref__': <attribute '__weakref__' of 'A' objects>, '__doc__': None}\n",
      "4\n",
      "5\n"
     ]
    },
    {
     "ename": "AttributeError",
     "evalue": "'A' object has no attribute '__a2'",
     "output_type": "error",
     "traceback": [
      "\u001b[1;31m---------------------------------------------------------------------------\u001b[0m",
      "\u001b[1;31mAttributeError\u001b[0m                            Traceback (most recent call last)",
      "\u001b[1;32m<ipython-input-36-4c8968930673>\u001b[0m in \u001b[0;36m<module>\u001b[1;34m()\u001b[0m\n\u001b[0;32m     11\u001b[0m \u001b[0mprint\u001b[0m\u001b[1;33m(\u001b[0m\u001b[0ma\u001b[0m\u001b[1;33m.\u001b[0m\u001b[0m_a1\u001b[0m\u001b[1;33m)\u001b[0m\u001b[1;33m\u001b[0m\u001b[0m\n\u001b[0;32m     12\u001b[0m \u001b[0mprint\u001b[0m\u001b[1;33m(\u001b[0m\u001b[0ma\u001b[0m\u001b[1;33m.\u001b[0m\u001b[0mgt\u001b[0m\u001b[1;33m(\u001b[0m\u001b[1;33m)\u001b[0m\u001b[1;33m)\u001b[0m\u001b[1;33m\u001b[0m\u001b[0m\n\u001b[1;32m---> 13\u001b[1;33m \u001b[0mprint\u001b[0m\u001b[1;33m(\u001b[0m\u001b[0ma\u001b[0m\u001b[1;33m.\u001b[0m\u001b[0m__a2\u001b[0m\u001b[1;33m)\u001b[0m\u001b[1;33m\u001b[0m\u001b[0m\n\u001b[0m",
      "\u001b[1;31mAttributeError\u001b[0m: 'A' object has no attribute '__a2'"
     ]
    }
   ],
   "source": [
    "# Как в Python определить private атрибут или метод. \n",
    "# Можно ли вызвать этот метод снаружи класса?\n",
    "class A:\n",
    "    _a1 = 4\n",
    "    __a2 = 5\n",
    "    def gt(self):\n",
    "        return self.__a2\n",
    "\n",
    "a = A()\n",
    "print(A.__dict__)\n",
    "print(a._a1)\n",
    "print(a.gt())\n",
    "print(a.__a2)\n"
   ]
  },
  {
   "cell_type": "code",
   "execution_count": 37,
   "metadata": {},
   "outputs": [
    {
     "name": "stdout",
     "output_type": "stream",
     "text": [
      "12\n"
     ]
    }
   ],
   "source": [
    "# Python 3.5+ поддерживает аннотацию типов:\n",
    "\n",
    "def my_pow(a: int, b: int) -> int:\n",
    "    return a * b\n",
    "print(my_pow(3, 4))"
   ]
  },
  {
   "cell_type": "code",
   "execution_count": 38,
   "metadata": {},
   "outputs": [
    {
     "name": "stdout",
     "output_type": "stream",
     "text": [
      "12.709999999999999\n"
     ]
    }
   ],
   "source": [
    "print(my_pow(3.1, 4.1))"
   ]
  },
  {
   "cell_type": "code",
   "execution_count": null,
   "metadata": {},
   "outputs": [],
   "source": []
  }
 ],
 "metadata": {
  "kernelspec": {
   "display_name": "Python 3",
   "language": "python",
   "name": "python3"
  },
  "language_info": {
   "codemirror_mode": {
    "name": "ipython",
    "version": 3
   },
   "file_extension": ".py",
   "mimetype": "text/x-python",
   "name": "python",
   "nbconvert_exporter": "python",
   "pygments_lexer": "ipython3",
   "version": "3.6.3"
  }
 },
 "nbformat": 4,
 "nbformat_minor": 2
}
